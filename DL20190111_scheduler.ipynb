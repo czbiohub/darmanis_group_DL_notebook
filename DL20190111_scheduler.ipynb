{
 "cells": [
  {
   "cell_type": "code",
   "execution_count": 8,
   "metadata": {},
   "outputs": [],
   "source": [
    "import boto3\n",
    "import pandas as pd\n"
   ]
  },
  {
   "cell_type": "code",
   "execution_count": 3,
   "metadata": {},
   "outputs": [
    {
     "name": "stdout",
     "output_type": "stream",
     "text": [
      "Completed 69 Bytes/69 Bytes (1.6 KiB/s) with 1 file(s) remaining\r",
      "upload: ../../data/DL20181011_melanocyte_test_data/schedule.txt to s3://daniel.le-work/MEL_project/outrigger/schedule.txt\r\n"
     ]
    }
   ],
   "source": [
    "pointer_path = 's3://daniel.le-work/MEL_project/outrigger/DL20190111_testing'\n",
    "schedule_df = pd.DataFrame({'path':[pointer_path]})\n",
    "schedule_df.to_csv('/home/ubuntu/data/DL20181011_melanocyte_test_data/schedule.txt')\n",
    "! aws s3 cp /home/ubuntu/data/DL20181011_melanocyte_test_data/schedule.txt s3://daniel.le-work/MEL_project/outrigger/\n"
   ]
  },
  {
   "cell_type": "code",
   "execution_count": 6,
   "metadata": {},
   "outputs": [
    {
     "name": "stdout",
     "output_type": "stream",
     "text": [
      "2\n"
     ]
    }
   ],
   "source": [
    "jobs= ['s3://czbiohub-seqbot/fastqs/180301_NB501961_0074_AH5HKKBGX5/homo_results/A10_B000873_S714.homo.SJ.out.tab',\n",
    "       's3://czbiohub-seqbot/fastqs/180301_NB501961_0074_AH5HKKBGX5/homo_results/A11_B000873_S714.homo.SJ.out.tab']\n",
    "\n",
    "max_nodes = 10\n",
    "if len(jobs) <= max_nodes:\n",
    "    MaxCount = len(jobs)\n",
    "else:\n",
    "    MaxCount = max_nodes\n",
    "print(MaxCount)\n"
   ]
  },
  {
   "cell_type": "code",
   "execution_count": 10,
   "metadata": {},
   "outputs": [
    {
     "ename": "ClientError",
     "evalue": "An error occurred (InvalidInstanceID.Malformed) when calling the StartInstances operation: Invalid id: \"i-A10_B000873\"",
     "output_type": "error",
     "traceback": [
      "\u001b[0;31m---------------------------------------------------------------------------\u001b[0m",
      "\u001b[0;31mClientError\u001b[0m                               Traceback (most recent call last)",
      "\u001b[0;32m<ipython-input-10-5ee5a3de4a38>\u001b[0m in \u001b[0;36m<module>\u001b[0;34m()\u001b[0m\n\u001b[1;32m      1\u001b[0m \u001b[0mec2\u001b[0m \u001b[0;34m=\u001b[0m \u001b[0mboto3\u001b[0m\u001b[0;34m.\u001b[0m\u001b[0mclient\u001b[0m\u001b[0;34m(\u001b[0m\u001b[0;34m'ec2'\u001b[0m\u001b[0;34m)\u001b[0m\u001b[0;34m\u001b[0m\u001b[0m\n\u001b[1;32m      2\u001b[0m \u001b[0minstance_id\u001b[0m \u001b[0;34m=\u001b[0m \u001b[0;34m'i-A10_B000873'\u001b[0m\u001b[0;34m\u001b[0m\u001b[0m\n\u001b[0;32m----> 3\u001b[0;31m \u001b[0mec2\u001b[0m\u001b[0;34m.\u001b[0m\u001b[0mstart_instances\u001b[0m\u001b[0;34m(\u001b[0m\u001b[0mInstanceIds\u001b[0m\u001b[0;34m=\u001b[0m\u001b[0;34m[\u001b[0m\u001b[0minstance_id\u001b[0m\u001b[0;34m]\u001b[0m\u001b[0;34m,\u001b[0m \u001b[0mDryRun\u001b[0m\u001b[0;34m=\u001b[0m\u001b[0;32mTrue\u001b[0m\u001b[0;34m)\u001b[0m\u001b[0;34m\u001b[0m\u001b[0m\n\u001b[0m",
      "\u001b[0;32m~/anaconda3/lib/python3.6/site-packages/botocore/client.py\u001b[0m in \u001b[0;36m_api_call\u001b[0;34m(self, *args, **kwargs)\u001b[0m\n\u001b[1;32m    318\u001b[0m                     \"%s() only accepts keyword arguments.\" % py_operation_name)\n\u001b[1;32m    319\u001b[0m             \u001b[0;31m# The \"self\" in this scope is referring to the BaseClient.\u001b[0m\u001b[0;34m\u001b[0m\u001b[0;34m\u001b[0m\u001b[0m\n\u001b[0;32m--> 320\u001b[0;31m             \u001b[0;32mreturn\u001b[0m \u001b[0mself\u001b[0m\u001b[0;34m.\u001b[0m\u001b[0m_make_api_call\u001b[0m\u001b[0;34m(\u001b[0m\u001b[0moperation_name\u001b[0m\u001b[0;34m,\u001b[0m \u001b[0mkwargs\u001b[0m\u001b[0;34m)\u001b[0m\u001b[0;34m\u001b[0m\u001b[0m\n\u001b[0m\u001b[1;32m    321\u001b[0m \u001b[0;34m\u001b[0m\u001b[0m\n\u001b[1;32m    322\u001b[0m         \u001b[0m_api_call\u001b[0m\u001b[0;34m.\u001b[0m\u001b[0m__name__\u001b[0m \u001b[0;34m=\u001b[0m \u001b[0mstr\u001b[0m\u001b[0;34m(\u001b[0m\u001b[0mpy_operation_name\u001b[0m\u001b[0;34m)\u001b[0m\u001b[0;34m\u001b[0m\u001b[0m\n",
      "\u001b[0;32m~/anaconda3/lib/python3.6/site-packages/botocore/client.py\u001b[0m in \u001b[0;36m_make_api_call\u001b[0;34m(self, operation_name, api_params)\u001b[0m\n\u001b[1;32m    621\u001b[0m             \u001b[0merror_code\u001b[0m \u001b[0;34m=\u001b[0m \u001b[0mparsed_response\u001b[0m\u001b[0;34m.\u001b[0m\u001b[0mget\u001b[0m\u001b[0;34m(\u001b[0m\u001b[0;34m\"Error\"\u001b[0m\u001b[0;34m,\u001b[0m \u001b[0;34m{\u001b[0m\u001b[0;34m}\u001b[0m\u001b[0;34m)\u001b[0m\u001b[0;34m.\u001b[0m\u001b[0mget\u001b[0m\u001b[0;34m(\u001b[0m\u001b[0;34m\"Code\"\u001b[0m\u001b[0;34m)\u001b[0m\u001b[0;34m\u001b[0m\u001b[0m\n\u001b[1;32m    622\u001b[0m             \u001b[0merror_class\u001b[0m \u001b[0;34m=\u001b[0m \u001b[0mself\u001b[0m\u001b[0;34m.\u001b[0m\u001b[0mexceptions\u001b[0m\u001b[0;34m.\u001b[0m\u001b[0mfrom_code\u001b[0m\u001b[0;34m(\u001b[0m\u001b[0merror_code\u001b[0m\u001b[0;34m)\u001b[0m\u001b[0;34m\u001b[0m\u001b[0m\n\u001b[0;32m--> 623\u001b[0;31m             \u001b[0;32mraise\u001b[0m \u001b[0merror_class\u001b[0m\u001b[0;34m(\u001b[0m\u001b[0mparsed_response\u001b[0m\u001b[0;34m,\u001b[0m \u001b[0moperation_name\u001b[0m\u001b[0;34m)\u001b[0m\u001b[0;34m\u001b[0m\u001b[0m\n\u001b[0m\u001b[1;32m    624\u001b[0m         \u001b[0;32melse\u001b[0m\u001b[0;34m:\u001b[0m\u001b[0;34m\u001b[0m\u001b[0m\n\u001b[1;32m    625\u001b[0m             \u001b[0;32mreturn\u001b[0m \u001b[0mparsed_response\u001b[0m\u001b[0;34m\u001b[0m\u001b[0m\n",
      "\u001b[0;31mClientError\u001b[0m: An error occurred (InvalidInstanceID.Malformed) when calling the StartInstances operation: Invalid id: \"i-A10_B000873\""
     ]
    }
   ],
   "source": [
    "ec2 = boto3.client('ec2')\n",
    "instances = ec2.create_instances(\n",
    "    ImageId='ami-0cf33936274910dea', \n",
    "    MinCount=1, \n",
    "    MaxCount=MaxCount,\n",
    "    KeyName=\"DL_test_create\",\n",
    "    InstanceType=\"t2.micro\")\n",
    "\n",
    "for instance in instances:\n",
    "    print(instance.id, instance.instance_type)\n",
    "    id_list = instance.id\n",
    "    "
   ]
  },
  {
   "cell_type": "code",
   "execution_count": 24,
   "metadata": {},
   "outputs": [
    {
     "name": "stdout",
     "output_type": "stream",
     "text": [
      "CompletedProcess(args=['aws', 's3', 'cp', '/home/ubuntu/data/DL20181011_melanocyte_test_data/i-0.job', 's3://daniel.le-work/MEL_project/outrigger/DL20190111_testing/queue/'], returncode=0)\n",
      "CompletedProcess(args=['aws', 's3', 'cp', '/home/ubuntu/data/DL20181011_melanocyte_test_data/i-1.job', 's3://daniel.le-work/MEL_project/outrigger/DL20190111_testing/queue/'], returncode=0)\n",
      "CompletedProcess(args=['aws', 's3', 'cp', '/home/ubuntu/data/DL20181011_melanocyte_test_data/i-2.job', 's3://daniel.le-work/MEL_project/outrigger/DL20190111_testing/queue/'], returncode=0)\n",
      "CompletedProcess(args=['aws', 's3', 'cp', '/home/ubuntu/data/DL20181011_melanocyte_test_data/i-3.job', 's3://daniel.le-work/MEL_project/outrigger/DL20190111_testing/queue/'], returncode=0)\n",
      "CompletedProcess(args=['aws', 's3', 'cp', '/home/ubuntu/data/DL20181011_melanocyte_test_data/i-4.job', 's3://daniel.le-work/MEL_project/outrigger/DL20190111_testing/queue/'], returncode=0)\n",
      "CompletedProcess(args=['aws', 's3', 'cp', '/home/ubuntu/data/DL20181011_melanocyte_test_data/i-5.job', 's3://daniel.le-work/MEL_project/outrigger/DL20190111_testing/queue/'], returncode=0)\n",
      "CompletedProcess(args=['aws', 's3', 'cp', '/home/ubuntu/data/DL20181011_melanocyte_test_data/i-6.job', 's3://daniel.le-work/MEL_project/outrigger/DL20190111_testing/queue/'], returncode=0)\n",
      "CompletedProcess(args=['aws', 's3', 'cp', '/home/ubuntu/data/DL20181011_melanocyte_test_data/i-7.job', 's3://daniel.le-work/MEL_project/outrigger/DL20190111_testing/queue/'], returncode=0)\n",
      "CompletedProcess(args=['aws', 's3', 'cp', '/home/ubuntu/data/DL20181011_melanocyte_test_data/i-8.job', 's3://daniel.le-work/MEL_project/outrigger/DL20190111_testing/queue/'], returncode=0)\n",
      "CompletedProcess(args=['aws', 's3', 'cp', '/home/ubuntu/data/DL20181011_melanocyte_test_data/i-9.job', 's3://daniel.le-work/MEL_project/outrigger/DL20190111_testing/queue/'], returncode=0)\n"
     ]
    }
   ],
   "source": [
    "import time\n",
    "import numpy as np\n",
    "import os,sys,subprocess\n",
    "\n",
    "def routine():\n",
    "    time.sleep(np.random.choice([x for x in range(10)],1))\n",
    "\n",
    "# def fake_log(ec2_id):\n",
    "\n",
    "jobs = [f'job_{x}' for x in range(10)]\n",
    "ec2_ids = [f'i-{x}' for x in range(10)]\n",
    "max_nodes = 2 # parallelize this routine\n",
    "\n",
    "for job,ec2_id in zip(jobs,ec2_ids):\n",
    "    # create job file and push to s3\n",
    "    job_df = pd.DataFrame({'path':[job]})\n",
    "    local_job = f'/home/ubuntu/data/DL20181011_melanocyte_test_data/{ec2_id}.job'\n",
    "    job_df.to_csv(local_job)\n",
    "    cmd = f'aws s3 cp {local_job} {pointer_path}/queue/'\n",
    "    process = subprocess.run(cmd.split(' '))\n",
    "    print(process)\n",
    "    os.remove(local_job)\n",
    "    \n",
    "    # testing module:\n",
    "    \n",
    "    \n",
    "    # check for log file\n",
    "    # while log file does not exist:\n",
    "        ## check for log file\n",
    "        ## sys sleep 30 s\n",
    "    # kill instance\n",
    "    "
   ]
  },
  {
   "cell_type": "code",
   "execution_count": 17,
   "metadata": {},
   "outputs": [
    {
     "name": "stdout",
     "output_type": "stream",
     "text": [
      "0\n",
      "None\n",
      "5\n",
      "None\n",
      "10\n",
      "foo\n"
     ]
    }
   ],
   "source": [
    "log = None\n",
    "counter = 0\n",
    "while log is None:\n",
    "    print(counter)\n",
    "    counter += 5\n",
    "    if counter >10:\n",
    "        log = 'foo'\n",
    "    print(log)"
   ]
  },
  {
   "cell_type": "code",
   "execution_count": null,
   "metadata": {
    "collapsed": true
   },
   "outputs": [],
   "source": []
  }
 ],
 "metadata": {
  "kernelspec": {
   "display_name": "Python [conda root]",
   "language": "python",
   "name": "conda-root-py"
  },
  "language_info": {
   "codemirror_mode": {
    "name": "ipython",
    "version": 3
   },
   "file_extension": ".py",
   "mimetype": "text/x-python",
   "name": "python",
   "nbconvert_exporter": "python",
   "pygments_lexer": "ipython3",
   "version": "3.6.5"
  },
  "varInspector": {
   "cols": {
    "lenName": 16,
    "lenType": 16,
    "lenVar": 40
   },
   "kernels_config": {
    "python": {
     "delete_cmd_postfix": "",
     "delete_cmd_prefix": "del ",
     "library": "var_list.py",
     "varRefreshCmd": "print(var_dic_list())"
    },
    "r": {
     "delete_cmd_postfix": ") ",
     "delete_cmd_prefix": "rm(",
     "library": "var_list.r",
     "varRefreshCmd": "cat(var_dic_list()) "
    }
   },
   "types_to_exclude": [
    "module",
    "function",
    "builtin_function_or_method",
    "instance",
    "_Feature"
   ],
   "window_display": false
  }
 },
 "nbformat": 4,
 "nbformat_minor": 2
}
