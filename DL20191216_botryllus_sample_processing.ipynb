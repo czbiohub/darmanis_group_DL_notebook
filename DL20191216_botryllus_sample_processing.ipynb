{
 "cells": [
  {
   "cell_type": "code",
   "execution_count": 15,
   "metadata": {},
   "outputs": [],
   "source": [
    "import pandas as pd\n",
    "import numpy as np\n",
    "import s3fs\n",
    "import tqdm\n",
    "import subprocess\n",
    "import shutil, os, glob\n"
   ]
  },
  {
   "cell_type": "code",
   "execution_count": 16,
   "metadata": {},
   "outputs": [],
   "source": [
    "targetfn_df = pd.read_csv('s3://darmanis-group/danle/botryllus/botryllus_samples.csv')\n",
    "targetfn_df = pd.melt(targetfn_df, id_vars=['Chimeras set','Time chimera sampled following fusion'])\n",
    "targetfn_df['translated_value'] = [ x.replace(' ', '_') \\\n",
    "                                     .replace('  ', '_') \\\n",
    "                                     .replace('.', '_') \\\n",
    "                                     .replace('..', '_') \\\n",
    "                                     .replace('-', '_') \\\n",
    "                                     .replace('--', '_') \\\n",
    "                                     .replace('__', '_') \\\n",
    "                                     .replace('ï','i') if x is not np.nan \\\n",
    "                                   else x \\\n",
    "                                   for x in targetfn_df['value']\n",
    "                                  ]\n",
    "# create sample id conversion\n",
    "value2id_dict = {}\n",
    "for val_val, key_val in enumerate(targetfn_df['translated_value'].drop_duplicates().dropna()):\n",
    "    value2id_dict[key_val] = f'sample_{val_val}'\n",
    "value2id_dict[np.nan] = np.nan\n",
    "targetfn_df['sample_id'] = [value2id_dict.get(x) for x in targetfn_df['translated_value']]\n"
   ]
  },
  {
   "cell_type": "code",
   "execution_count": 17,
   "metadata": {},
   "outputs": [],
   "source": [
    "fs_df = pd.read_csv('/home/daniel_le/data/botryllus/fs.txt', header=None)\n",
    "fs_df.columns = ['path']\n",
    "fs_df['fastq'] = [x.endswith('q.gz') for x in fs_df['path']]\n",
    "fs_df = fs_df[fs_df['fastq'] == True]\n",
    "fs_df['fn'] = [x.split('/')[-1] for x in fs_df['path']]\n",
    "fs_df['d1_dir'] = [x.split('/')[-2] for x in fs_df['path']]\n",
    "fs_df['d1_dir_translated'] = [ x.replace(' ', '_') \\\n",
    "                                 .replace('  ', '_') \\\n",
    "                                 .replace('.', '_') \\\n",
    "                                 .replace('..', '_') \\\n",
    "                                 .replace('-', '_') \\\n",
    "                                 .replace('--', '_') \\\n",
    "                                 .replace('__', '_') \\\n",
    "                               for x in fs_df['d1_dir']\n",
    "                              ]\n",
    "fs_df['fn_translated'] = [ x.replace(' ', '_') \\\n",
    "                                 .replace('  ', '_') \\\n",
    "                                 .replace('.', '_') \\\n",
    "                                 .replace('..', '_') \\\n",
    "                                 .replace('-', '_') \\\n",
    "                                 .replace('--', '_') \\\n",
    "                                 .replace('__', '_') \\\n",
    "                               for x in fs_df['fn']\n",
    "                              ]\n"
   ]
  },
  {
   "cell_type": "code",
   "execution_count": 18,
   "metadata": {},
   "outputs": [
    {
     "name": "stderr",
     "output_type": "stream",
     "text": [
      "  0%|          | 0/98 [00:00<?, ?it/s]/home/daniel_le/anaconda3/lib/python3.7/site-packages/ipykernel_launcher.py:9: SettingWithCopyWarning: \n",
      "A value is trying to be set on a copy of a slice from a DataFrame.\n",
      "Try using .loc[row_indexer,col_indexer] = value instead\n",
      "\n",
      "See the caveats in the documentation: http://pandas.pydata.org/pandas-docs/stable/user_guide/indexing.html#returning-a-view-versus-a-copy\n",
      "  if __name__ == '__main__':\n",
      "100%|██████████| 98/98 [00:00<00:00, 256.22it/s]"
     ]
    },
    {
     "name": "stdout",
     "output_type": "stream",
     "text": [
      "targets: 98\n",
      "hits: 97\n",
      "3966_944axByd196_6_x_sc109e_92_resorbing_zooid_early_D_chimera_944_side_DCRS\n"
     ]
    },
    {
     "name": "stderr",
     "output_type": "stream",
     "text": [
      "\n"
     ]
    },
    {
     "data": {
      "text/plain": [
       "[None]"
      ]
     },
     "execution_count": 18,
     "metadata": {},
     "output_type": "execute_result"
    }
   ],
   "source": [
    "match_df = pd.DataFrame()\n",
    "for target in tqdm.tqdm(targetfn_df['translated_value'].drop_duplicates().dropna()):\n",
    "    if '944axByd196_6_x_sc109e_92' in target:\n",
    "        word_len = 30\n",
    "    else:\n",
    "        word_len = len(target)\n",
    "    fs_df_slice = fs_df[[x.startswith(target[:word_len]) or y.startswith(target[:word_len]) \\\n",
    "                         for x,y in zip(fs_df['fn_translated'], fs_df['d1_dir_translated'])]]\n",
    "    fs_df_slice['target'] = target\n",
    "    match_df = match_df.append(fs_df_slice)\n",
    "match_df['sample_id'] = [value2id_dict.get(x) for x in match_df['target']]\n",
    "match_df = match_df.drop_duplicates()\n",
    "\n",
    "# metrics\n",
    "targets = set(targetfn_df['translated_value'].dropna())\n",
    "print('targets:', len(targets))\n",
    "\n",
    "hits = set(match_df['target'])\n",
    "print('hits:', len(hits))\n",
    "\n",
    "missing = targets-hits\n",
    "[print(x) for x in missing]\n"
   ]
  },
  {
   "cell_type": "code",
   "execution_count": 19,
   "metadata": {},
   "outputs": [
    {
     "data": {
      "text/html": [
       "<div>\n",
       "<style scoped>\n",
       "    .dataframe tbody tr th:only-of-type {\n",
       "        vertical-align: middle;\n",
       "    }\n",
       "\n",
       "    .dataframe tbody tr th {\n",
       "        vertical-align: top;\n",
       "    }\n",
       "\n",
       "    .dataframe thead th {\n",
       "        text-align: right;\n",
       "    }\n",
       "</style>\n",
       "<table border=\"1\" class=\"dataframe\">\n",
       "  <thead>\n",
       "    <tr style=\"text-align: right;\">\n",
       "      <th></th>\n",
       "      <th>sample_id</th>\n",
       "      <th>fn_translated_prefix</th>\n",
       "      <th>count</th>\n",
       "    </tr>\n",
       "  </thead>\n",
       "  <tbody>\n",
       "  </tbody>\n",
       "</table>\n",
       "</div>"
      ],
      "text/plain": [
       "Empty DataFrame\n",
       "Columns: [sample_id, fn_translated_prefix, count]\n",
       "Index: []"
      ]
     },
     "execution_count": 19,
     "metadata": {},
     "output_type": "execute_result"
    }
   ],
   "source": [
    "# check if R1/R2 are properly paired\n",
    "match_df['fn_translated_prefix'] = [(x\n",
    "                                     .replace('-R1.','_R2_')\n",
    "                                     .replace('_R1_','_R2_')\n",
    "                                    ) for x in match_df['fn_translated']]\n",
    "match_df_check = pd.DataFrame(match_df\n",
    "                              .groupby('sample_id')['fn_translated_prefix']\n",
    "                              .value_counts()\n",
    "                              .rename('count')).reset_index()\n",
    "match_df_check[match_df_check['count']!=2]\n"
   ]
  },
  {
   "cell_type": "code",
   "execution_count": null,
   "metadata": {},
   "outputs": [
    {
     "name": "stderr",
     "output_type": "stream",
     "text": [
      "  0%|          | 0/97 [00:00<?, ?it/s]"
     ]
    },
    {
     "name": "stdout",
     "output_type": "stream",
     "text": [
      "starting sample_83\n"
     ]
    },
    {
     "name": "stderr",
     "output_type": "stream",
     "text": [
      "  1%|          | 1/97 [29:07<46:35:14, 1747.03s/it]"
     ]
    },
    {
     "name": "stdout",
     "output_type": "stream",
     "text": [
      "completed\n",
      "starting sample_27\n"
     ]
    },
    {
     "name": "stderr",
     "output_type": "stream",
     "text": [
      "  2%|▏         | 2/97 [38:28<36:43:11, 1391.49s/it]"
     ]
    },
    {
     "name": "stdout",
     "output_type": "stream",
     "text": [
      "completed\n",
      "starting sample_40\n"
     ]
    },
    {
     "name": "stderr",
     "output_type": "stream",
     "text": [
      "  3%|▎         | 3/97 [43:48<27:56:11, 1069.91s/it]"
     ]
    },
    {
     "name": "stdout",
     "output_type": "stream",
     "text": [
      "completed\n",
      "starting sample_89\n"
     ]
    }
   ],
   "source": [
    "output_dir = '/home/daniel_le/data/botryllus/results/'\n",
    "tmp_dir = '/home/daniel_le/data/botryllus/tmp/'\n",
    "indexed_fasta = '/home/daniel_le/data/botryllus/genome/botznik-chr.fa'\n",
    "n_threads = 32\n",
    "\n",
    "# update queue based on completed targets\n",
    "queued_targets = list(set(match_df['sample_id']))\n",
    "completed_targets = [x.split('/')[-1].split('.sorted.bam.bai')[0] for x in glob.glob(f'{output_dir}*') if x.endswith('.bai')]\n",
    "queued_targets = list(set(queued_targets)-set(completed_targets))\n",
    "\n",
    "# iterate through queue\n",
    "for sample in tqdm.tqdm(queued_targets):\n",
    "# for sample in tqdm.tqdm(['sample_75']): # for testing\n",
    "    print('starting', sample)\n",
    "    # prep tmp folder\n",
    "    if os.path.exists(tmp_dir):\n",
    "        shutil.rmtree(tmp_dir)\n",
    "        os.mkdir(tmp_dir)\n",
    "    else:\n",
    "        os.mkdir(tmp_dir)\n",
    "    # prep output foler    \n",
    "    if os.path.exists(output_dir):\n",
    "        pass\n",
    "    else:\n",
    "        os.mkdir(output_dir)\n",
    "    \n",
    "#     # set file names\n",
    "    tmp_R1_fn = f'{tmp_dir}R1.fq.gz'\n",
    "    tmp_R2_fn = f'{tmp_dir}R2.fq.gz'\n",
    "    tmp_sam = f'{tmp_dir}{sample}.sam'\n",
    "    tmp_bam = f'{tmp_dir}{sample}.bam'\n",
    "    output_sortedbam = f'{output_dir}{sample}.sorted.bam'\n",
    "    \n",
    "    # rclone subprocess call to download files\n",
    "    match_df_slice = match_df[match_df['sample_id'] == sample]\n",
    "    input_fastqs = match_df_slice['path'].tolist()\n",
    "    for input_path in input_fastqs:\n",
    "        subprocess.call(['rclone',\n",
    "                         'copy',\n",
    "                         f'gdrive:Botryllus/{input_path}',\n",
    "                         tmp_dir,\n",
    "                        ])\n",
    "    \n",
    "    # extract files in tmp for cat\n",
    "    R1_inputs = sorted([x for x in glob.glob(f'{tmp_dir}*') if ('-R1.' in x) or ('_R1_' in x)])\n",
    "    R2_inputs = sorted([x for x in glob.glob(f'{tmp_dir}*') if ('-R2.' in x) or ('_R2_' in x)])\n",
    "    for inputs,outfn in zip([R1_inputs,R2_inputs], [tmp_R1_fn,tmp_R2_fn]):\n",
    "        for input_fn in inputs:\n",
    "            with open(outfn, 'a') as outfile:\n",
    "                subprocess.call(['cat', input_fn], stdout=outfile)\n",
    "                \n",
    "    # run bwa mem\n",
    "    with open(tmp_sam, 'w') as outfile:\n",
    "        subprocess.call(['bwa',\n",
    "                         'mem',\n",
    "                         '-t',\n",
    "                         str(n_threads),\n",
    "                         '-M',\n",
    "                         indexed_fasta,\n",
    "                         tmp_R1_fn,\n",
    "                         tmp_R2_fn,\n",
    "                        ], stdout=outfile)\n",
    "        \n",
    "    # samtools convert sam to bam\n",
    "    with open(tmp_bam, 'w') as outfile:\n",
    "        subprocess.call(['samtools',\n",
    "                         'view',\n",
    "                         '-S',\n",
    "                         '-b',\n",
    "                         tmp_sam,\n",
    "                        ], stdout=outfile)\n",
    "        \n",
    "    # samtools sort bam\n",
    "    with open(output_sortedbam, 'w') as outfile:\n",
    "        subprocess.call(['samtools',\n",
    "                         'sort',\n",
    "                         tmp_bam,\n",
    "                        ], stdout=outfile)\n",
    "        \n",
    "    # samtools index sorted bam\n",
    "    subprocess.call(['samtools',\n",
    "                     'index',\n",
    "                     output_sortedbam,\n",
    "                    ])\n",
    "    \n",
    "    print('completed')\n"
   ]
  },
  {
   "cell_type": "code",
   "execution_count": null,
   "metadata": {},
   "outputs": [],
   "source": []
  }
 ],
 "metadata": {
  "kernelspec": {
   "display_name": "mypython3",
   "language": "python",
   "name": "mypython3"
  },
  "language_info": {
   "codemirror_mode": {
    "name": "ipython",
    "version": 3
   },
   "file_extension": ".py",
   "mimetype": "text/x-python",
   "name": "python",
   "nbconvert_exporter": "python",
   "pygments_lexer": "ipython3",
   "version": "3.7.4"
  }
 },
 "nbformat": 4,
 "nbformat_minor": 4
}
