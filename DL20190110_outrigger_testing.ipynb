{
 "cells": [
  {
   "cell_type": "code",
   "execution_count": null,
   "metadata": {},
   "outputs": [],
   "source": [
    "from joblib import Parallel, delayed\n",
    "from subprocess import run\n",
    "import os\n",
    "from shutil import copyfile,rmtree\n",
    "import multiprocessing\n",
    "num_cores = multiprocessing.cpu_count()\n",
    "\n",
    "try:\n",
    "    rmtree('/GB100_1/outrigger_wkdir/results')\n",
    "except:\n",
    "    pass\n",
    "os.mkdir('/GB100_1/outrigger_wkdir/results')\n",
    "\n",
    "def myfun(s3path):\n",
    "    # parse path for prefix to name outputs\n",
    "    file_prefix = s3path.split('.')[0].split('/')[-1]\n",
    "    prefix = '_'.join(file_prefix.split('_')[:2])\n",
    "    plate = file_prefix.split('_')[1]\n",
    "\n",
    "    wkdir = f'/GB100_1/outrigger_wkdir/{prefix}'\n",
    "    output_dir = '/GB100_1/outrigger_wkdir/results'\n",
    "    results_subdir = f'{output_dir}/{plate}'\n",
    "    \n",
    "    # create dir structure\n",
    "    os.mkdir(wkdir)\n",
    "    for target_dir in [output_dir, results_subdir]:\n",
    "        if not os.path.isdir(target_dir):\n",
    "            os.mkdir(results_subdir)\n",
    "    \n",
    "    gtf_file = '/GB100_1/ref/HG38-PLUS/HG38-PLUS/genes/genes.gtf'\n",
    "    fa_file = '/GB100_1/ref/HG38-PLUS/HG38-PLUS/fasta/genome.fa'\n",
    "    \n",
    "    # pull input from s3\n",
    "    os.chdir('/home/ubuntu/')\n",
    "    run(['aws', 's3', 'cp', \n",
    "         s3path, f'{wkdir}/'])\n",
    "    \n",
    "    # run outrigger (approx. 10 min per sample)\n",
    "    os.chdir(wkdir)\n",
    "    run(['outrigger', 'index', \n",
    "         '--sj-out-tab', f'{file_prefix}.homo.SJ.out.tab',\n",
    "         '--gtf', gtf_file])\n",
    "    try:\n",
    "        os.chdir(wkdir)\n",
    "        run(['outrigger', 'validate', \n",
    "             '--genome', 'hg38',\n",
    "             '--fasta', fa_file])\n",
    "    except:\n",
    "        pass\n",
    "\n",
    "    # compile results\n",
    "    for subtype in ['se','mxe']:\n",
    "        try:\n",
    "            # /GB100_1/outrigger_wkdir/A10_B000873/outrigger_output/index/se/validated/events.csv\n",
    "            copyfile(f'{wkdir}/outrigger_output/index/{subtype}/validated/events.csv', \n",
    "                     f'{results_subdir}/{prefix}_{subtype}.csv')\n",
    "        except:\n",
    "            os.mknod(f'{results_subdir}/{prefix}_{subtype}.csv')\n",
    "    \n",
    "    # remove subdir\n",
    "    rmtree(wkdir)\n",
    "\n",
    "Parallel(n_jobs=num_cores-1, \n",
    "         backend=\"threading\")(map(delayed(myfun), matched_path))\n"
   ]
  }
 ],
 "metadata": {
  "kernelspec": {
   "display_name": "Python [conda root]",
   "language": "python",
   "name": "conda-root-py"
  },
  "language_info": {
   "codemirror_mode": {
    "name": "ipython",
    "version": 3
   },
   "file_extension": ".py",
   "mimetype": "text/x-python",
   "name": "python",
   "nbconvert_exporter": "python",
   "pygments_lexer": "ipython3",
   "version": "3.6.5"
  },
  "varInspector": {
   "cols": {
    "lenName": 16,
    "lenType": 16,
    "lenVar": 40
   },
   "kernels_config": {
    "python": {
     "delete_cmd_postfix": "",
     "delete_cmd_prefix": "del ",
     "library": "var_list.py",
     "varRefreshCmd": "print(var_dic_list())"
    },
    "r": {
     "delete_cmd_postfix": ") ",
     "delete_cmd_prefix": "rm(",
     "library": "var_list.r",
     "varRefreshCmd": "cat(var_dic_list()) "
    }
   },
   "types_to_exclude": [
    "module",
    "function",
    "builtin_function_or_method",
    "instance",
    "_Feature"
   ],
   "window_display": false
  }
 },
 "nbformat": 4,
 "nbformat_minor": 2
}
