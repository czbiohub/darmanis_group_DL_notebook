{
 "cells": [
  {
   "cell_type": "code",
   "execution_count": 2,
   "metadata": {},
   "outputs": [
    {
     "data": {
      "text/plain": [
       "3015"
      ]
     },
     "execution_count": 2,
     "metadata": {},
     "output_type": "execute_result"
    }
   ],
   "source": [
    "import pandas as pd\n",
    "import numpy as np\n",
    "\n",
    "paths_df = pd.read_csv('s3://daniel.le-work/MEL_project/DL20190110_subset2_paths.csv')\n",
    "paths_vec = paths_df.path.values.tolist()\n",
    "len(paths_vec)\n"
   ]
  },
  {
   "cell_type": "code",
   "execution_count": 2,
   "metadata": {},
   "outputs": [],
   "source": [
    "import time\n",
    "\n",
    "for i in range(10):\n",
    "    start_time = time.time()\n",
    "    time.sleep(0.1)\n",
    "    etime = time.time() - start_time\n",
    "    with open('/home/ubuntu/data/DL20181011_melanocyte_test_data/DL20190110_outrigger_timelog.txt', 'a') as f:\n",
    "        f.write(f'{etime}\\n')\n",
    "        "
   ]
  },
  {
   "cell_type": "code",
   "execution_count": null,
   "metadata": {},
   "outputs": [],
   "source": [
    "# must establish outrigger environment\n",
    "# create a docker image to run outrigger\n",
    "\n",
    "from joblib import Parallel, delayed\n",
    "from subprocess import run\n",
    "import os\n",
    "from shutil import copyfile,rmtree\n",
    "import multiprocessing\n",
    "num_cores = multiprocessing.cpu_count()\n",
    "\n",
    "try:\n",
    "    rmtree('/GB100_1/outrigger_wkdir/results')\n",
    "except:\n",
    "    pass\n",
    "os.mkdir('/GB100_1/outrigger_wkdir/results')\n",
    "\n",
    "def myfun(s3path):\n",
    "    start_time = time.time()\n",
    "    \n",
    "    # parse path for prefix to name outputs\n",
    "    file_prefix = s3path.split('.')[0].split('/')[-1]\n",
    "    prefix = '_'.join(file_prefix.split('_')[:2])\n",
    "    plate = file_prefix.split('_')[1]\n",
    "\n",
    "    wkdir = f'/GB100_1/outrigger_wkdir/{prefix}'\n",
    "    output_dir = '/GB100_1/outrigger_wkdir/results'\n",
    "    results_subdir = f'{output_dir}/{plate}'\n",
    "    \n",
    "    # create dir structure\n",
    "    os.mkdir(wkdir)\n",
    "    for target_dir in [output_dir, results_subdir]:\n",
    "        if not os.path.isdir(target_dir):\n",
    "            os.mkdir(results_subdir)\n",
    "    \n",
    "    gtf_file = '/GB100_1/ref/HG38-PLUS/HG38-PLUS/genes/genes.gtf'\n",
    "    fa_file = '/GB100_1/ref/HG38-PLUS/HG38-PLUS/fasta/genome.fa'\n",
    "    \n",
    "    # pull input from s3\n",
    "    os.chdir('/home/ubuntu/')\n",
    "    run(['aws', 's3', 'cp', \n",
    "         s3path, f'{wkdir}/'])\n",
    "    \n",
    "    # run outrigger (approx. 10 min per sample)\n",
    "    os.chdir(wkdir)\n",
    "    run(['outrigger', 'index', \n",
    "         '--sj-out-tab', f'{file_prefix}.homo.SJ.out.tab',\n",
    "         '--gtf', gtf_file])\n",
    "    try:\n",
    "        os.chdir(wkdir)\n",
    "        run(['outrigger', 'validate', \n",
    "             '--genome', 'hg38',\n",
    "             '--fasta', fa_file])\n",
    "    except:\n",
    "        pass\n",
    "\n",
    "    # compile results\n",
    "    for subtype in ['se','mxe']:\n",
    "        try:\n",
    "            # /GB100_1/outrigger_wkdir/A10_B000873/outrigger_output/index/se/validated/events.csv\n",
    "            copyfile(f'{wkdir}/outrigger_output/index/{subtype}/validated/events.csv', \n",
    "                     f'{results_subdir}/{prefix}_{subtype}.csv')\n",
    "        except:\n",
    "            os.mknod(f'{results_subdir}/{prefix}_{subtype}.csv')\n",
    "    \n",
    "    # remove subdir\n",
    "    rmtree(wkdir)\n",
    "    \n",
    "    # record execution time\n",
    "    etime = time.time() - start_time\n",
    "    with open('/home/ubuntu/data/DL20181011_melanocyte_test_data/DL20190110_outrigger_timelog.txt', 'a') as f:\n",
    "        f.write(f'{etime}\\n')\n",
    "\n",
    "# randomly sample 10 paths to time and process\n",
    "matched_path = np.random.choice(paths_vec, 10)\n",
    "    \n",
    "Parallel(n_jobs=1, \n",
    "         backend=\"threading\")(map(delayed(myfun), matched_path))\n"
   ]
  },
  {
   "cell_type": "code",
   "execution_count": 6,
   "metadata": {},
   "outputs": [
    {
     "data": {
      "text/html": [
       "<div>\n",
       "<style scoped>\n",
       "    .dataframe tbody tr th:only-of-type {\n",
       "        vertical-align: middle;\n",
       "    }\n",
       "\n",
       "    .dataframe tbody tr th {\n",
       "        vertical-align: top;\n",
       "    }\n",
       "\n",
       "    .dataframe thead th {\n",
       "        text-align: right;\n",
       "    }\n",
       "</style>\n",
       "<table border=\"1\" class=\"dataframe\">\n",
       "  <thead>\n",
       "    <tr style=\"text-align: right;\">\n",
       "      <th></th>\n",
       "      <th>sec</th>\n",
       "      <th>min</th>\n",
       "    </tr>\n",
       "  </thead>\n",
       "  <tbody>\n",
       "    <tr>\n",
       "      <th>count</th>\n",
       "      <td>10.000000</td>\n",
       "      <td>10.000000</td>\n",
       "    </tr>\n",
       "    <tr>\n",
       "      <th>mean</th>\n",
       "      <td>1634.448382</td>\n",
       "      <td>27.240806</td>\n",
       "    </tr>\n",
       "    <tr>\n",
       "      <th>std</th>\n",
       "      <td>271.413223</td>\n",
       "      <td>4.523554</td>\n",
       "    </tr>\n",
       "    <tr>\n",
       "      <th>min</th>\n",
       "      <td>1239.832358</td>\n",
       "      <td>20.663873</td>\n",
       "    </tr>\n",
       "    <tr>\n",
       "      <th>25%</th>\n",
       "      <td>1469.529451</td>\n",
       "      <td>24.492158</td>\n",
       "    </tr>\n",
       "    <tr>\n",
       "      <th>50%</th>\n",
       "      <td>1597.518533</td>\n",
       "      <td>26.625309</td>\n",
       "    </tr>\n",
       "    <tr>\n",
       "      <th>75%</th>\n",
       "      <td>1801.916791</td>\n",
       "      <td>30.031947</td>\n",
       "    </tr>\n",
       "    <tr>\n",
       "      <th>max</th>\n",
       "      <td>2066.486255</td>\n",
       "      <td>34.441438</td>\n",
       "    </tr>\n",
       "  </tbody>\n",
       "</table>\n",
       "</div>"
      ],
      "text/plain": [
       "               sec        min\n",
       "count    10.000000  10.000000\n",
       "mean   1634.448382  27.240806\n",
       "std     271.413223   4.523554\n",
       "min    1239.832358  20.663873\n",
       "25%    1469.529451  24.492158\n",
       "50%    1597.518533  26.625309\n",
       "75%    1801.916791  30.031947\n",
       "max    2066.486255  34.441438"
      ]
     },
     "execution_count": 6,
     "metadata": {},
     "output_type": "execute_result"
    }
   ],
   "source": [
    "df = pd.read_csv('/home/ubuntu/data/DL20181011_melanocyte_test_data/DL20190110_outrigger_timelog.txt', header = None)\n",
    "df.columns = ['sec']\n",
    "df['min'] = df.sec / 60\n",
    "\n",
    "df.describe()"
   ]
  },
  {
   "cell_type": "code",
   "execution_count": 26,
   "metadata": {},
   "outputs": [
    {
     "data": {
      "text/plain": [
       "['s3://czbiohub-seqbot/fastqs/180301_NB501961_0074_AH5HKKBGX5/homo_results/A10_B000873_S714.homo.SJ.out.tab',\n",
       " 's3://czbiohub-seqbot/fastqs/180301_NB501961_0074_AH5HKKBGX5/homo_results/A11_B000873_S715.homo.SJ.out.tab']"
      ]
     },
     "execution_count": 26,
     "metadata": {},
     "output_type": "execute_result"
    }
   ],
   "source": [
    "paths_vec[:2]"
   ]
  },
  {
   "cell_type": "code",
   "execution_count": 28,
   "metadata": {},
   "outputs": [],
   "source": [
    "jobs_queue = pd.DataFrame({'ec2_id': ['foo', 'i-0f95ea0e27dc6f375'],'path':paths_vec[:2]})\n",
    "jobs_queue.to_csv('/home/ubuntu/data/DL20181011_melanocyte_test_data/jobs_queue.csv')\n"
   ]
  },
  {
   "cell_type": "code",
   "execution_count": 60,
   "metadata": {},
   "outputs": [
    {
     "name": "stdout",
     "output_type": "stream",
     "text": [
      "No matching jobs\n",
      "failed\n"
     ]
    }
   ],
   "source": [
    "import subprocess\n",
    "\n",
    "jobs_path = 's3://daniel.le-work/MEL_project/DL20190111_outrigger/jobs_queue.csv'\n",
    "\n",
    "def pull_job(jobs_path):\n",
    "    s3path = None\n",
    "    \n",
    "    # get instance id\n",
    "    proc = subprocess.run(['ec2metadata', '--instance-id'], \n",
    "                              encoding='utf-8', \n",
    "                              stdout=subprocess.PIPE)\n",
    "    ec2_id =  proc.stdout.split('\\n')[0]\n",
    "    \n",
    "    # pull jobs queue\n",
    "    jobs_df = pd.read_csv(jobs_path)\n",
    "    if ec2_id in jobs_df.ec2_id.values:\n",
    "        s3path = jobs_df[jobs_df.ec2_id == ec2_id].path.tolist()[0]\n",
    "    elif len(jobs_df) > 0:\n",
    "        print('No matching jobs')\n",
    "    else:\n",
    "        print('No jobs in queue')\n",
    "    return s3path\n",
    "\n",
    "s3path = pull_job(jobs_path)\n",
    "if s3path is None:\n",
    "    print('failed')\n"
   ]
  },
  {
   "cell_type": "code",
   "execution_count": 52,
   "metadata": {},
   "outputs": [
    {
     "data": {
      "text/plain": [
       "'s3://czbiohub-seqbot/fastqs/180301_NB501961_0074_AH5HKKBGX5/homo_results/A11_B000873_S715.homo.SJ.out.tab'"
      ]
     },
     "execution_count": 52,
     "metadata": {},
     "output_type": "execute_result"
    }
   ],
   "source": [
    "jobs_df[jobs_df.ec2_id == ec2_id].path.tolist()[0]"
   ]
  },
  {
   "cell_type": "code",
   "execution_count": 62,
   "metadata": {},
   "outputs": [],
   "source": [
    "ec2_id = 'i-0f95ea0e27dc6f375'\n",
    "df = pd.DataFrame({'path':['s3://czbiohub-seqbot/fastqs/180301_NB501961_0074_AH5HKKBGX5/homo_results/A10_B000873_S714.homo.SJ.out.tab']})\n",
    "df.to_csv(f'/home/ubuntu/data/DL20181011_melanocyte_test_data/{ec2_id}.job')\n"
   ]
  },
  {
   "cell_type": "code",
   "execution_count": 63,
   "metadata": {},
   "outputs": [
    {
     "name": "stdout",
     "output_type": "stream",
     "text": [
      "s3://czbiohub-seqbot/fastqs/180301_NB501961_0074_AH5HKKBGX5/homo_results/A10_B000873_S714.homo.SJ.out.tab\n"
     ]
    }
   ],
   "source": [
    "jobs_file = 's3://daniel.le-work/MEL_project/DL20190111_outrigger/queue/i-0f95ea0e27dc6f375.job'\n",
    "try:\n",
    "    jobs_df = pd.read_csv(jobs_file)\n",
    "    s3path = jobs_df.path.values[0]\n",
    "    print(s3path)\n",
    "except:\n",
    "    pass"
   ]
  },
  {
   "cell_type": "code",
   "execution_count": null,
   "metadata": {},
   "outputs": [],
   "source": []
  }
 ],
 "metadata": {
  "kernelspec": {
   "display_name": "Python [default]",
   "language": "python",
   "name": "python3"
  },
  "language_info": {
   "codemirror_mode": {
    "name": "ipython",
    "version": 3
   },
   "file_extension": ".py",
   "mimetype": "text/x-python",
   "name": "python",
   "nbconvert_exporter": "python",
   "pygments_lexer": "ipython3",
   "version": "3.6.5"
  },
  "varInspector": {
   "cols": {
    "lenName": 16,
    "lenType": 16,
    "lenVar": 40
   },
   "kernels_config": {
    "python": {
     "delete_cmd_postfix": "",
     "delete_cmd_prefix": "del ",
     "library": "var_list.py",
     "varRefreshCmd": "print(var_dic_list())"
    },
    "r": {
     "delete_cmd_postfix": ") ",
     "delete_cmd_prefix": "rm(",
     "library": "var_list.r",
     "varRefreshCmd": "cat(var_dic_list()) "
    }
   },
   "types_to_exclude": [
    "module",
    "function",
    "builtin_function_or_method",
    "instance",
    "_Feature"
   ],
   "window_display": false
  }
 },
 "nbformat": 4,
 "nbformat_minor": 2
}
