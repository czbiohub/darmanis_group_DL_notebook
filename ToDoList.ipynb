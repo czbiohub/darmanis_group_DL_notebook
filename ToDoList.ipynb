{
 "cells": [
  {
   "cell_type": "markdown",
   "metadata": {},
   "source": [
    "# Rob's primary melanocytes\n",
    "## TODO\n",
    "1) Write manuscript\n",
    "\n",
    "5) PAUSE: Kaplan Myer curves for the TCGA data grouped by(ii) AXL high and MITF high score using Tirosh gene list (iii) Hoek proliferative vs invasive score using the Hoek gene list I will send you in a CSV\n"
   ]
  },
  {
   "cell_type": "markdown",
   "metadata": {},
   "source": [
    "# Faranak's dish melanocytes\n",
    "## TODO\n",
    "1) Can we craft a story around making cells that look like primary melanomas? "
   ]
  },
  {
   "cell_type": "markdown",
   "metadata": {},
   "source": [
    "# Dirk's single-cell total RNA\n",
    "## TODO\n",
    "1) Wait for method optimization (i.e. increase read utilization)"
   ]
  },
  {
   "cell_type": "markdown",
   "metadata": {},
   "source": [
    "# Ayelet's Botryllus rearrangements\n",
    "## TODO\n",
    "\n",
    "1) Align naive colonies and chimeric colonies to known alleles (see email)\n",
    "2) Haplotype all colonies and look for evidence of rearrangements or hyper-mutation"
   ]
  },
  {
   "cell_type": "markdown",
   "metadata": {},
   "source": [
    "# Bo's worm atlas with long-reads\n",
    "## TODO\n",
    "1) Wait for Bo's lab to generate bulk RNA for long-read sequencing"
   ]
  },
  {
   "cell_type": "markdown",
   "metadata": {},
   "source": [
    "# Chris's hemichordate atlas with long-reads\n",
    "## TODO\n",
    "1) Wait for new samples (e.g. zebrafish or new hemichordates)"
   ]
  },
  {
   "cell_type": "markdown",
   "metadata": {},
   "source": [
    "# My reference-free cell annotation with long-reads\n",
    "## TODO\n",
    "1) Look for single-cell long-read datasets\n",
    "2) Test iterative clustering or SAM?\n",
    "3) Cluster cells based on k-mer cluster proportions"
   ]
  }
 ],
 "metadata": {
  "kernelspec": {
   "display_name": "Python 3",
   "language": "python",
   "name": "python3"
  },
  "language_info": {
   "codemirror_mode": {
    "name": "ipython",
    "version": 3
   },
   "file_extension": ".py",
   "mimetype": "text/x-python",
   "name": "python",
   "nbconvert_exporter": "python",
   "pygments_lexer": "ipython3",
   "version": "3.7.3"
  },
  "varInspector": {
   "cols": {
    "lenName": 16,
    "lenType": 16,
    "lenVar": 40
   },
   "kernels_config": {
    "python": {
     "delete_cmd_postfix": "",
     "delete_cmd_prefix": "del ",
     "library": "var_list.py",
     "varRefreshCmd": "print(var_dic_list())"
    },
    "r": {
     "delete_cmd_postfix": ") ",
     "delete_cmd_prefix": "rm(",
     "library": "var_list.r",
     "varRefreshCmd": "cat(var_dic_list()) "
    }
   },
   "types_to_exclude": [
    "module",
    "function",
    "builtin_function_or_method",
    "instance",
    "_Feature"
   ],
   "window_display": false
  }
 },
 "nbformat": 4,
 "nbformat_minor": 2
}
