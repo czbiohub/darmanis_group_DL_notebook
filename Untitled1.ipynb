{
 "cells": [
  {
   "cell_type": "code",
   "execution_count": 6,
   "metadata": {},
   "outputs": [
    {
     "name": "stdout",
     "output_type": "stream",
     "text": [
      "CompletedProcess(args=['aws', 's3api', 'restore-object', '--bucket', 'mybucket', '--key', 'dir1/example.obj', '--restore-request', '{\"Days\":25,\"GlacierJobParameters\":{\"Tier\":\"Standard\"}}'], returncode=255)\n"
     ]
    }
   ],
   "source": [
    "import subprocess\n",
    "syscmd = \"\"\"aws s3api restore-object --bucket {bucket_name} --key {key} --restore-request\"\"\"\n",
    "suffix = '{\"Days\":25,\"GlacierJobParameters\":{\"Tier\":\"Standard\"}}'\n",
    "full_syscmd = syscmd.split(' ') + [suffix]\n",
    "process = subprocess.run(full_syscmd)\n",
    "print(process)\n"
   ]
  },
  {
   "cell_type": "code",
   "execution_count": null,
   "metadata": {},
   "outputs": [],
   "source": []
  }
 ],
 "metadata": {
  "kernelspec": {
   "display_name": "Python [conda env:anaconda3]",
   "language": "python",
   "name": "conda-env-anaconda3-py"
  },
  "language_info": {
   "codemirror_mode": {
    "name": "ipython",
    "version": 3
   },
   "file_extension": ".py",
   "mimetype": "text/x-python",
   "name": "python",
   "nbconvert_exporter": "python",
   "pygments_lexer": "ipython3",
   "version": "3.6.5"
  },
  "varInspector": {
   "cols": {
    "lenName": 16,
    "lenType": 16,
    "lenVar": 40
   },
   "kernels_config": {
    "python": {
     "delete_cmd_postfix": "",
     "delete_cmd_prefix": "del ",
     "library": "var_list.py",
     "varRefreshCmd": "print(var_dic_list())"
    },
    "r": {
     "delete_cmd_postfix": ") ",
     "delete_cmd_prefix": "rm(",
     "library": "var_list.r",
     "varRefreshCmd": "cat(var_dic_list()) "
    }
   },
   "types_to_exclude": [
    "module",
    "function",
    "builtin_function_or_method",
    "instance",
    "_Feature"
   ],
   "window_display": false
  }
 },
 "nbformat": 4,
 "nbformat_minor": 2
}
