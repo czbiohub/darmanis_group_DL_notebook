{
 "cells": [
  {
   "cell_type": "markdown",
   "metadata": {},
   "source": [
    "## translate to protein and blast"
   ]
  },
  {
   "cell_type": "code",
   "execution_count": 209,
   "metadata": {},
   "outputs": [],
   "source": [
    "import subprocess\n",
    "def translate(seq, frame=1): \n",
    "    # frame: 1 = start at pos 0; 2 = start at pos 1; 3 = start at pos 2\n",
    "    table = { \n",
    "        'ATA':'I', 'ATC':'I', 'ATT':'I', 'ATG':'M', \n",
    "        'ACA':'T', 'ACC':'T', 'ACG':'T', 'ACT':'T', \n",
    "        'AAC':'N', 'AAT':'N', 'AAA':'K', 'AAG':'K', \n",
    "        'AGC':'S', 'AGT':'S', 'AGA':'R', 'AGG':'R',                  \n",
    "        'CTA':'L', 'CTC':'L', 'CTG':'L', 'CTT':'L', \n",
    "        'CCA':'P', 'CCC':'P', 'CCG':'P', 'CCT':'P', \n",
    "        'CAC':'H', 'CAT':'H', 'CAA':'Q', 'CAG':'Q', \n",
    "        'CGA':'R', 'CGC':'R', 'CGG':'R', 'CGT':'R', \n",
    "        'GTA':'V', 'GTC':'V', 'GTG':'V', 'GTT':'V', \n",
    "        'GCA':'A', 'GCC':'A', 'GCG':'A', 'GCT':'A', \n",
    "        'GAC':'D', 'GAT':'D', 'GAA':'E', 'GAG':'E', \n",
    "        'GGA':'G', 'GGC':'G', 'GGG':'G', 'GGT':'G', \n",
    "        'TCA':'S', 'TCC':'S', 'TCG':'S', 'TCT':'S', \n",
    "        'TTC':'F', 'TTT':'F', 'TTA':'L', 'TTG':'L', \n",
    "        'TAC':'Y', 'TAT':'Y', 'TAA':'X', 'TAG':'X', \n",
    "        'TGC':'C', 'TGT':'C', 'TGA':'X', 'TGG':'W', \n",
    "    } \n",
    "    comp_dict = {'C':'G',\n",
    "                 'G':'C',\n",
    "                 'A':'T',\n",
    "                 'T':'A'\n",
    "                }\n",
    "    protein = ''\n",
    "    \n",
    "    if frame == 1 :\n",
    "        start_val = 0\n",
    "    if frame == 2:\n",
    "        start_val = 1\n",
    "    if frame == 3:\n",
    "        start_val = 2\n",
    "    if frame == 4 :\n",
    "        start_val = 0\n",
    "    if frame == 5:\n",
    "        start_val = 1\n",
    "    if frame == 6:\n",
    "        start_val = 2\n",
    "    if frame > 3:\n",
    "        seq = ''.join([comp_dict.get(x) for x in seq])\n",
    "        \n",
    "    for i in range(start_val, len(seq), 3): \n",
    "        try:\n",
    "            codon = seq[i:i + 3] \n",
    "            protein+= table[codon] \n",
    "        except:\n",
    "            break\n",
    "    return protein\n",
    "\n",
    "def fastq2protein(input_file, output_file, trim_n = 0):\n",
    "    read_iter = {}\n",
    "    iterator = 0\n",
    "    entry_count = 0\n",
    "    for line in open(input_file):\n",
    "        iterator += 1\n",
    "        position = iterator % 4\n",
    "        read_iter[position] = line.strip()\n",
    "        if position == 0:\n",
    "            a = read_iter[1]\n",
    "            b = read_iter[2]\n",
    "            name = a[1:].split()[0]\n",
    "            sequence = b[:len(b)-trim_n+1]\n",
    "            \n",
    "            name_1 = f'>{name}_fr1' + '\\n'\n",
    "            trans_seq_1 = translate(sequence, frame=1) + '\\n'\n",
    "            name_2 = f'>{name}_fr2' + '\\n'\n",
    "            trans_seq_2 = translate(sequence, frame=2) + '\\n'\n",
    "            name_3 = f'>{name}_fr3' + '\\n'\n",
    "            trans_seq_3 = translate(sequence, frame=3) + '\\n'\n",
    "            \n",
    "            if entry_count == 0:\n",
    "                write_code = 'w'\n",
    "            else:\n",
    "                write_code = 'a'\n",
    "            with open(output_file, write_code) as f:\n",
    "                for outline in [name_1,trans_seq_1,name_2,trans_seq_2,name_3,trans_seq_3]:\n",
    "                    f.write(outline)\n",
    "                    \n",
    "            entry_count += 1\n",
    "\n",
    "def run_blastp(input_fn, prot_ref, n_threads, ouput_fn):\n",
    "    # run blast\n",
    "    blast_cmd_list = ['blastp',\n",
    "                      '-query',\n",
    "                      input_fn,\n",
    "                      '-db',\n",
    "                      prot_ref,\n",
    "                      '-task',\n",
    "                      'blastp-fast',\n",
    "                      '-matrix',\n",
    "                      'BLOSUM45',\n",
    "                      '-evalue',\n",
    "                      '1000',\n",
    "                      '-outfmt',\n",
    "                      '\"6 evalue qseqid sseqid staxids sscinames sskingdoms\"',\n",
    "#                       '-num_descriptions',\n",
    "#                       '1',\n",
    "#                       '-num_alignments',\n",
    "#                       '1',\n",
    "                      '-max_target_seqs',\n",
    "                      '5',\n",
    "                      '-num_threads',\n",
    "                      f'{n_threads}',\n",
    "                      '-out',\n",
    "                      ouput_fn,\n",
    "                     ]\n",
    "    blast_cmd = ' '.join(blast_cmd_list)\n",
    "    print(blast_cmd)\n",
    "    subprocess.check_output(blast_cmd, shell=True, stderr=subprocess.STDOUT)"
   ]
  },
  {
   "cell_type": "code",
   "execution_count": 161,
   "metadata": {},
   "outputs": [],
   "source": [
    "input_fq = '/mnt/ibm_lg/daniel_le/data/acoel/test_c3poa_pre/output_rev/1/OligodT_ISPCR_Cell_Barcode_11_UMI/R2C2_raw_reads.fastq'\n",
    "output_fa = '/mnt/ibm_lg/daniel_le/data/acoel/test_c3poa_pre/blastout/OligodT_ISPCR_Cell_Barcode_11_UMI_translate.fa'\n",
    "fastq2protein(input_fq, \n",
    "              output_fa,\n",
    "              trim_n = 100\n",
    "             )"
   ]
  },
  {
   "cell_type": "code",
   "execution_count": 163,
   "metadata": {},
   "outputs": [
    {
     "name": "stdout",
     "output_type": "stream",
     "text": [
      "blastp -query /mnt/ibm_lg/daniel_le/data/acoel/test_c3poa_pre/blastout/test.fa -db /mnt/ibm_lg/daniel_le/data/blastdb/nr -task blastp-fast -matrix BLOSUM45 -evalue 1000 -outfmt \"6 evalue qseqid sseqid staxids sscinames sskingdoms\" -max_target_seqs 5 -num_threads 2 -out /mnt/ibm_lg/daniel_le/data/acoel/test_c3poa_pre/blastout/test_blastout.tsv\n"
     ]
    }
   ],
   "source": [
    "prot_ref = '/mnt/ibm_lg/daniel_le/data/blastdb/nr'\n",
    "# prot_ref = '/mnt/ibm_lg/daniel_le/data/longreads/proteome/UP000005640_9606.fasta'\n",
    "input_fn = '/mnt/ibm_lg/daniel_le/data/acoel/test_c3poa_pre/blastout/test.fa'\n",
    "n_threads = 2\n",
    "ouput_fn = '/mnt/ibm_lg/daniel_le/data/acoel/test_c3poa_pre/blastout/test_blastout.tsv'\n",
    "run_blastp(input_fn, prot_ref, n_threads, ouput_fn)"
   ]
  },
  {
   "cell_type": "markdown",
   "metadata": {},
   "source": [
    "## cat c3poa outputs"
   ]
  },
  {
   "cell_type": "code",
   "execution_count": null,
   "metadata": {},
   "outputs": [
    {
     "name": "stderr",
     "output_type": "stream",
     "text": [
      " 41%|████      | 693/1695 [08:31<13:23,  1.25it/s]"
     ]
    }
   ],
   "source": [
    "# cat results of c3poa\n",
    "import glob, tqdm, os, shutil\n",
    "output_dir = '/mnt/ibm_lg/daniel_le/data/acoel/test_c3poa_pre/output_rev/merged/'\n",
    "\n",
    "if os.path.exists(output_dir):\n",
    "    shutil.rmtree(output_dir)\n",
    "os.mkdir(output_dir)\n",
    "\n",
    "partitions = glob.glob('/mnt/ibm_lg/daniel_le/data/acoel/test_c3poa_pre/output_rev/*/')\n",
    "BC_dict = {}\n",
    "for partition in tqdm.tqdm(partitions):\n",
    "    BCs = glob.glob(f'{partition}*/')\n",
    "    for BC in BCs:\n",
    "        target = BC.split(partition)[1][:-1]\n",
    "        source = f'{BC}R2C2_raw_reads.fastq'\n",
    "        with open(f'{output_dir}{target}.fq', 'a') as outfile:\n",
    "            try:\n",
    "                with open(source, 'r') as infile:\n",
    "                    for line in infile:\n",
    "                        outfile.write(line)\n",
    "            except:\n",
    "                pass\n"
   ]
  },
  {
   "cell_type": "markdown",
   "metadata": {},
   "source": [
    "## create consensus sequence"
   ]
  },
  {
   "cell_type": "code",
   "execution_count": 62,
   "metadata": {},
   "outputs": [],
   "source": [
    "import subprocess, glob, multiprocessing, os\n",
    "def run_spoa(fq):\n",
    "    dest_root = '/'.join(fq.split('/')[:-1]) + '/cns.txt'\n",
    "    if not os.path.exists(dest_root):\n",
    "        cmnd = f'spoa {fq}'\n",
    "        try:\n",
    "            output = subprocess.check_output(\n",
    "                cmnd,\n",
    "                shell=True\n",
    "            )\n",
    "            with open(dest_root, 'w') as fout:\n",
    "                fout.write(output.decode(\"utf-8\"))\n",
    "        except subprocess.CalledProcessError as exc:\n",
    "            print(\"Status : FAIL\", exc.returncode, exc.output)\n",
    "    else:\n",
    "        pass"
   ]
  },
  {
   "cell_type": "code",
   "execution_count": 63,
   "metadata": {},
   "outputs": [],
   "source": [
    "# run_spoa(fq_list[50])"
   ]
  },
  {
   "cell_type": "code",
   "execution_count": 28,
   "metadata": {},
   "outputs": [],
   "source": [
    "# get all fq paths for parallel spoa\n",
    "fq_dirs = glob.glob('/mnt/ibm_lg/daniel_le/data/acoel/test_c3poa_pre/onclust_output/correction/*/')\n",
    "fq_list = [x + 'corrected_reads.fastq' for x in fq_dirs]"
   ]
  },
  {
   "cell_type": "code",
   "execution_count": 70,
   "metadata": {},
   "outputs": [],
   "source": [
    "def parallel_spoa(fq_list, n_proc=1):\n",
    "    p = multiprocessing.Pool(processes=n_proc)\n",
    "    try:\n",
    "        p.map(run_spoa, fq_list)\n",
    "    finally:\n",
    "        p.close()\n",
    "        p.join()\n",
    "        "
   ]
  },
  {
   "cell_type": "code",
   "execution_count": null,
   "metadata": {},
   "outputs": [],
   "source": [
    "parallel_spoa(fq_list, n_proc=32)"
   ]
  },
  {
   "cell_type": "markdown",
   "metadata": {},
   "source": [
    "### trim rattle fasta"
   ]
  },
  {
   "cell_type": "code",
   "execution_count": 99,
   "metadata": {},
   "outputs": [],
   "source": [
    "fastaf = '/mnt/ibm_lg/daniel_le/data/acoel/test_rattle/cns/transcriptome.fa'\n",
    "trimmedfa = '/mnt/ibm_lg/daniel_le/data/acoel/test_rattle/cns/transcriptome_10plus.fa'\n",
    "\n",
    "with open(trimmedfa, 'w') as fout:\n",
    "    with open(fastaf, 'r') as fin:\n",
    "        line_counter = 1\n",
    "        entry_dict = {}\n",
    "        \n",
    "        for line in fin:    \n",
    "            position = line_counter % 2\n",
    "            entry_dict[position] = line.strip()\n",
    "            if position == 0:\n",
    "                header = entry_dict.get(1)\n",
    "                header_split = header.split()\n",
    "                tot_read = int(header_split[2].split('=')[1])\n",
    "                seq = entry_dict.get(0)       \n",
    "                if tot_read > 10:\n",
    "                    fout.write(header + '\\n' + seq + '\\n')\n",
    "\n",
    "            line_counter += 1"
   ]
  },
  {
   "cell_type": "markdown",
   "metadata": {},
   "source": [
    "### stats of aln"
   ]
  },
  {
   "cell_type": "code",
   "execution_count": 210,
   "metadata": {},
   "outputs": [
    {
     "name": "stdout",
     "output_type": "stream",
     "text": [
      "mapped clusters 2800\n",
      "algae reads 1984\n"
     ]
    }
   ],
   "source": [
    "import pysam\n",
    "import pandas as pd\n",
    "import numpy as np\n",
    "\n",
    "samfile = pysam.AlignmentFile(\"/mnt/ibm_lg/daniel_le/data/acoel/test_minimap2/aln/tri_aln.sorted.bam\", \"r\")\n",
    "query_list = []\n",
    "ref_list = []\n",
    "for read in samfile:\n",
    "    query_list.append(read.query_name)\n",
    "    ref_list.append(samfile.get_reference_name(read.reference_id))\n",
    "    \n",
    "samfile.close()\n",
    "pysam_df = pd.DataFrame({'cluster':query_list, 'ref':ref_list})\n",
    "print('mapped clusters', len(pysam_df.dropna()))\n",
    "\n",
    "pysam_df = pysam_df.replace(np.nan, '-')\n",
    "pysam_df['algae'] = [x.startswith('T') for x in pysam_df['ref']]\n",
    "print('algae reads', len(pysam_df[pysam_df['algae'] == True]))"
   ]
  },
  {
   "cell_type": "code",
   "execution_count": 216,
   "metadata": {},
   "outputs": [
    {
     "data": {
      "text/plain": [
       "genome\n",
       "acoel     274\n",
       "algae    1984\n",
       "worm      542\n",
       "Name: mapped, dtype: int64"
      ]
     },
     "metadata": {},
     "output_type": "display_data"
    },
    {
     "data": {
      "text/plain": [
       "genome\n",
       "acoel    0.097857\n",
       "algae    0.708571\n",
       "worm     0.193571\n",
       "Name: mapped, dtype: float64"
      ]
     },
     "metadata": {},
     "output_type": "display_data"
    }
   ],
   "source": [
    "samfile = pysam.AlignmentFile(\"/mnt/ibm_lg/daniel_le/data/acoel/test_minimap2/aln/tri_aln.sorted.bam\", \"rb\")\n",
    "contigs = []\n",
    "mappeds = []\n",
    "unmappeds = []\n",
    "totals = []\n",
    "for line in samfile.get_index_statistics():\n",
    "    contigs.append(line[0])\n",
    "    mappeds.append(line[1])\n",
    "    unmappeds.append(line[2])\n",
    "    totals.append(line[3])\n",
    "    \n",
    "df = pd.DataFrame({'contig':contigs,\n",
    "                   'mapped':mappeds,\n",
    "                   'unmapped':unmappeds,\n",
    "                   'total':totals\n",
    "                  })\n",
    "    \n",
    "samfile.close()\n",
    "\n",
    "df['genome'] = [x[:2] for x in df.contig]\n",
    "genome_dict = {'sc':'acoel',\n",
    "               'SM':'worm',\n",
    "               'Te':'algae'\n",
    "              }\n",
    "df['genome'] = df['genome'].map(genome_dict)\n",
    "display(df.groupby('genome')['mapped'].sum(),\n",
    "        df.groupby('genome')['mapped'].sum()/df.groupby('genome')['mapped'].sum().sum()\n",
    "       )"
   ]
  },
  {
   "cell_type": "markdown",
   "metadata": {},
   "source": [
    "### parse blast results"
   ]
  },
  {
   "cell_type": "code",
   "execution_count": 239,
   "metadata": {},
   "outputs": [
    {
     "name": "stdout",
     "output_type": "stream",
     "text": [
      "proportion of algae\n"
     ]
    },
    {
     "data": {
      "text/plain": [
       "False    0.979523\n",
       "True     0.020477\n",
       "Name: algae, dtype: float64"
      ]
     },
     "metadata": {},
     "output_type": "display_data"
    }
   ],
   "source": [
    "blast_in = '/mnt/ibm_lg/daniel_le/data/acoel/test_rattle/blast/blast_transcriptome_10plus.out'\n",
    "blast_df = pd.read_csv(blast_in, delimiter='\\t', header = None)\n",
    "blast_df.columns = ['evalue','qcov','cluster','ssid', 'taxid', 'sci_name', 'common_name', 'blast_name', 'kingdom', 'stitle']\n",
    "blast_df = (pd.DataFrame(blast_df.groupby('cluster')['blast_name'].value_counts())\n",
    "      .rename(columns = {'blast_name':'count'})\n",
    "      .reset_index()\n",
    "      .sort_values('count', ascending=False)\n",
    "      .groupby('cluster')\n",
    "      .head(1)\n",
    "     )\n",
    "blast_df['algae'] = [x=='green algae' for x in blast_df['blast_name']]\n",
    "\n",
    "print('proportion of algae')\n",
    "display(blast_df['algae'].value_counts() / blast_df['algae'].value_counts().sum())"
   ]
  },
  {
   "cell_type": "markdown",
   "metadata": {},
   "source": [
    "### overlap between blast and minimap2 algae clusters"
   ]
  },
  {
   "cell_type": "code",
   "execution_count": 234,
   "metadata": {},
   "outputs": [
    {
     "data": {
      "text/html": [
       "<div>\n",
       "<style scoped>\n",
       "    .dataframe tbody tr th:only-of-type {\n",
       "        vertical-align: middle;\n",
       "    }\n",
       "\n",
       "    .dataframe tbody tr th {\n",
       "        vertical-align: top;\n",
       "    }\n",
       "\n",
       "    .dataframe thead th {\n",
       "        text-align: right;\n",
       "    }\n",
       "</style>\n",
       "<table border=\"1\" class=\"dataframe\">\n",
       "  <thead>\n",
       "    <tr style=\"text-align: right;\">\n",
       "      <th></th>\n",
       "      <th>cluster</th>\n",
       "      <th>ref</th>\n",
       "      <th>algae_x</th>\n",
       "      <th>blast_name</th>\n",
       "      <th>count</th>\n",
       "      <th>algae_y</th>\n",
       "      <th>both_true</th>\n",
       "      <th>any_true</th>\n",
       "    </tr>\n",
       "  </thead>\n",
       "  <tbody>\n",
       "    <tr>\n",
       "      <td>818</td>\n",
       "      <td>cluster_18586</td>\n",
       "      <td>Tetraselmis_0004</td>\n",
       "      <td>True</td>\n",
       "      <td>green algae</td>\n",
       "      <td>2.0</td>\n",
       "      <td>True</td>\n",
       "      <td>True</td>\n",
       "      <td>True</td>\n",
       "    </tr>\n",
       "    <tr>\n",
       "      <td>841</td>\n",
       "      <td>cluster_5766</td>\n",
       "      <td>Tetraselmis_0072</td>\n",
       "      <td>True</td>\n",
       "      <td>green algae</td>\n",
       "      <td>12.0</td>\n",
       "      <td>True</td>\n",
       "      <td>True</td>\n",
       "      <td>True</td>\n",
       "    </tr>\n",
       "    <tr>\n",
       "      <td>859</td>\n",
       "      <td>cluster_18586</td>\n",
       "      <td>Tetraselmis_0099</td>\n",
       "      <td>True</td>\n",
       "      <td>green algae</td>\n",
       "      <td>2.0</td>\n",
       "      <td>True</td>\n",
       "      <td>True</td>\n",
       "      <td>True</td>\n",
       "    </tr>\n",
       "    <tr>\n",
       "      <td>943</td>\n",
       "      <td>cluster_4233</td>\n",
       "      <td>Tetraselmis_0296</td>\n",
       "      <td>True</td>\n",
       "      <td>green algae</td>\n",
       "      <td>12.0</td>\n",
       "      <td>True</td>\n",
       "      <td>True</td>\n",
       "      <td>True</td>\n",
       "    </tr>\n",
       "    <tr>\n",
       "      <td>977</td>\n",
       "      <td>cluster_7202</td>\n",
       "      <td>Tetraselmis_0388</td>\n",
       "      <td>True</td>\n",
       "      <td>green algae</td>\n",
       "      <td>4.0</td>\n",
       "      <td>True</td>\n",
       "      <td>True</td>\n",
       "      <td>True</td>\n",
       "    </tr>\n",
       "    <tr>\n",
       "      <td>...</td>\n",
       "      <td>...</td>\n",
       "      <td>...</td>\n",
       "      <td>...</td>\n",
       "      <td>...</td>\n",
       "      <td>...</td>\n",
       "      <td>...</td>\n",
       "      <td>...</td>\n",
       "      <td>...</td>\n",
       "    </tr>\n",
       "    <tr>\n",
       "      <td>2632</td>\n",
       "      <td>cluster_6069</td>\n",
       "      <td>Tetraselmis_3175</td>\n",
       "      <td>True</td>\n",
       "      <td>green algae</td>\n",
       "      <td>12.0</td>\n",
       "      <td>True</td>\n",
       "      <td>True</td>\n",
       "      <td>True</td>\n",
       "    </tr>\n",
       "    <tr>\n",
       "      <td>2659</td>\n",
       "      <td>cluster_5817</td>\n",
       "      <td>Tetraselmis_3236</td>\n",
       "      <td>True</td>\n",
       "      <td>green algae</td>\n",
       "      <td>5.0</td>\n",
       "      <td>True</td>\n",
       "      <td>True</td>\n",
       "      <td>True</td>\n",
       "    </tr>\n",
       "    <tr>\n",
       "      <td>2731</td>\n",
       "      <td>cluster_4639</td>\n",
       "      <td>Tetraselmis_3457</td>\n",
       "      <td>True</td>\n",
       "      <td>green algae</td>\n",
       "      <td>12.0</td>\n",
       "      <td>True</td>\n",
       "      <td>True</td>\n",
       "      <td>True</td>\n",
       "    </tr>\n",
       "    <tr>\n",
       "      <td>2733</td>\n",
       "      <td>cluster_12665</td>\n",
       "      <td>Tetraselmis_3459</td>\n",
       "      <td>True</td>\n",
       "      <td>green algae</td>\n",
       "      <td>8.0</td>\n",
       "      <td>True</td>\n",
       "      <td>True</td>\n",
       "      <td>True</td>\n",
       "    </tr>\n",
       "    <tr>\n",
       "      <td>2736</td>\n",
       "      <td>cluster_14602</td>\n",
       "      <td>Tetraselmis_3475</td>\n",
       "      <td>True</td>\n",
       "      <td>green algae</td>\n",
       "      <td>12.0</td>\n",
       "      <td>True</td>\n",
       "      <td>True</td>\n",
       "      <td>True</td>\n",
       "    </tr>\n",
       "  </tbody>\n",
       "</table>\n",
       "<p>160 rows × 8 columns</p>\n",
       "</div>"
      ],
      "text/plain": [
       "            cluster               ref  algae_x   blast_name  count algae_y  \\\n",
       "818   cluster_18586  Tetraselmis_0004     True  green algae    2.0    True   \n",
       "841    cluster_5766  Tetraselmis_0072     True  green algae   12.0    True   \n",
       "859   cluster_18586  Tetraselmis_0099     True  green algae    2.0    True   \n",
       "943    cluster_4233  Tetraselmis_0296     True  green algae   12.0    True   \n",
       "977    cluster_7202  Tetraselmis_0388     True  green algae    4.0    True   \n",
       "...             ...               ...      ...          ...    ...     ...   \n",
       "2632   cluster_6069  Tetraselmis_3175     True  green algae   12.0    True   \n",
       "2659   cluster_5817  Tetraselmis_3236     True  green algae    5.0    True   \n",
       "2731   cluster_4639  Tetraselmis_3457     True  green algae   12.0    True   \n",
       "2733  cluster_12665  Tetraselmis_3459     True  green algae    8.0    True   \n",
       "2736  cluster_14602  Tetraselmis_3475     True  green algae   12.0    True   \n",
       "\n",
       "      both_true  any_true  \n",
       "818        True      True  \n",
       "841        True      True  \n",
       "859        True      True  \n",
       "943        True      True  \n",
       "977        True      True  \n",
       "...         ...       ...  \n",
       "2632       True      True  \n",
       "2659       True      True  \n",
       "2731       True      True  \n",
       "2733       True      True  \n",
       "2736       True      True  \n",
       "\n",
       "[160 rows x 8 columns]"
      ]
     },
     "execution_count": 234,
     "metadata": {},
     "output_type": "execute_result"
    }
   ],
   "source": [
    "merge_df = pd.merge(pysam_df, blast_df, 'left', 'cluster')\n",
    "merge_df['both_true'] = [x==True and y==True for x,y in zip(merge_df['algae_x'],merge_df['algae_y'])]\n",
    "merge_df['any_true'] = [x==True or y==True for x,y in zip(merge_df['algae_x'],merge_df['algae_y'])]\n",
    "\n",
    "merge_df[merge_df['both_true'] == True]"
   ]
  },
  {
   "cell_type": "markdown",
   "metadata": {},
   "source": [
    "### trim transcriptome using union of blast and minimap2"
   ]
  },
  {
   "cell_type": "code",
   "execution_count": 235,
   "metadata": {},
   "outputs": [],
   "source": [
    "fastaf = '/mnt/ibm_lg/daniel_le/data/acoel/test_rattle/cns/transcriptome_10plus.fa'\n",
    "trimmedfa = '/mnt/ibm_lg/daniel_le/data/acoel/test_rattle/cns/transcriptome_10plus_omitAlgae.fa'\n",
    "\n",
    "with open(trimmedfa, 'w') as fout:\n",
    "    with open(fastaf, 'r') as fin:\n",
    "        line_counter = 1\n",
    "        entry_dict = {}\n",
    "        \n",
    "        for line in fin:    \n",
    "            position = line_counter % 2\n",
    "            entry_dict[position] = line.strip()\n",
    "            if position == 0:\n",
    "                header = entry_dict.get(1)\n",
    "                header_split = header.split()\n",
    "                cluster_id = header_split[0][1:]\n",
    "                seq = entry_dict.get(0)       \n",
    "                if not cluster_id in merge_df[merge_df['any_true'] == True]['cluster'].tolist():\n",
    "                    fout.write(header + '\\n' + seq + '\\n')\n",
    "\n",
    "            line_counter += 1"
   ]
  },
  {
   "cell_type": "markdown",
   "metadata": {},
   "source": [
    "### annotate based on BLAST hits"
   ]
  },
  {
   "cell_type": "code",
   "execution_count": 250,
   "metadata": {},
   "outputs": [
    {
     "data": {
      "text/plain": [
       "['Drosophila yakuba uncharacterized protein, transcript variant A (Dyak\\\\GE20585), mRNA',\n",
       " 'Drosophila yakuba uncharacterized protein, transcript variant H (Dyak\\\\GE20585), mRNA',\n",
       " 'Drosophila yakuba uncharacterized protein, transcript variant G (Dyak\\\\GE20585), mRNA',\n",
       " 'Drosophila yakuba uncharacterized protein, transcript variant F (Dyak\\\\GE20585), mRNA',\n",
       " 'Drosophila yakuba uncharacterized protein, transcript variant E (Dyak\\\\GE20585), mRNA']"
      ]
     },
     "execution_count": 250,
     "metadata": {},
     "output_type": "execute_result"
    }
   ],
   "source": [
    "blast_in = '/mnt/ibm_lg/daniel_le/data/acoel/test_rattle/blast/blast_transcriptome_10plus.out'\n",
    "blast_df = pd.read_csv(blast_in, delimiter='\\t', header = None)\n",
    "blast_df.columns = ['evalue','qcov','cluster','ssid', 'taxid', 'sci_name', 'common_name', 'blast_name', 'kingdom', 'stitle']\n",
    "\n",
    "# blast_df = (pd.DataFrame(blast_df.groupby('cluster')['blast_name'].value_counts())\n",
    "#       .rename(columns = {'blast_name':'count'})\n",
    "#       .reset_index()\n",
    "#       .sort_values('count', ascending=False)\n",
    "#       .groupby('cluster')\n",
    "#       .head(1)\n",
    "#      )\n",
    "blast_df.head()['stitle'].tolist()"
   ]
  },
  {
   "cell_type": "markdown",
   "metadata": {},
   "source": [
    "### map raw reads to CNS"
   ]
  },
  {
   "cell_type": "code",
   "execution_count": null,
   "metadata": {},
   "outputs": [],
   "source": []
  }
 ],
 "metadata": {
  "kernelspec": {
   "display_name": "Python (isoncorrect)",
   "language": "python",
   "name": "isoncorrect"
  },
  "language_info": {
   "codemirror_mode": {
    "name": "ipython",
    "version": 3
   },
   "file_extension": ".py",
   "mimetype": "text/x-python",
   "name": "python",
   "nbconvert_exporter": "python",
   "pygments_lexer": "ipython3",
   "version": "3.7.4"
  }
 },
 "nbformat": 4,
 "nbformat_minor": 4
}
