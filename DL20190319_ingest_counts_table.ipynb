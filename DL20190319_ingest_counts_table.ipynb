{
 "cells": [
  {
   "cell_type": "code",
   "execution_count": 1,
   "metadata": {},
   "outputs": [],
   "source": [
    "import pandas as pd\n",
    "import multiprocessing as mp\n",
    "import boto3\n",
    "import botocore.exceptions\n",
    "import re, os, shutil, subprocess\n",
    "from tqdm import tqdm\n",
    "\n",
    "def get_s3path_list(bucket, prefix, suffix):\n",
    "    #     bucket = 'darmanis-group'\n",
    "    #     prefix = 'singlecell_lungadeno/rawdata/fastqs'\n",
    "    #     suffix = 'fastq.gz'\n",
    "\n",
    "    client = boto3.client('s3')\n",
    "    paginator = client.get_paginator('list_objects')\n",
    "    operation_parameters = {'Bucket': bucket,\n",
    "                            'Prefix': prefix}\n",
    "    page_iterator = paginator.paginate(**operation_parameters)\n",
    "    paths = ['s3://{}/{}'.format(bucket, key['Key']) for page in page_iterator for key in page['Contents'] if key['Key'].endswith(suffix)]\n",
    "    return paths\n",
    "\n",
    "def merge_counts(top_dir):\n",
    "    # Create big counts table from local tables\n",
    "    file_list = [filename for filename in glob.iglob(top_dir + '**/*.txt', recursive=True)]\n",
    "    first_df = pd.read_csv(file_list[0], header=None, delimiter='\\t')\n",
    "    num_row = len(first_df)\n",
    "    rownames = first_df.iloc[:,0].tolist()\n",
    "    num_col = len(file_list)\n",
    "    colnames = []\n",
    "    empty_array = np.zeros((num_row, num_col))\n",
    "    \n",
    "    for idx, file in tqdm.tqdm(enumerate(file_list)):\n",
    "        pulled_col = pd.read_csv(file, header=None, delimiter='\\t', usecols=[1])\n",
    "        colname = '_'.join(file.split('/')[-1].split('_')[:2] + ['0'])\n",
    "        if colname in colnames:\n",
    "            name_split = colname.split('_')\n",
    "            new_idx =  int(name_split[-1]) + 1\n",
    "            colname = '_'.join(name_split[:2] + [new_idx])\n",
    "        colnames.append(colname)\n",
    "        empty_array[:,idx] = pulled_col.values.reshape((len(pulled_col),))\n",
    "    \n",
    "    # convert numpy to pandas\n",
    "    master_df = pd.DataFrame(empty_array)\n",
    "    master_df.columns = colnames\n",
    "    master_df['gene'] = rownames\n",
    "    \n",
    "    # remove metadata \n",
    "    master_df = master_df[[\"__\" not in x for x in master_df.gene]]\n",
    "    \n",
    "    # reset gene col\n",
    "    master_df = master_df.set_index('gene').reset_index()\n",
    "    \n",
    "    return master_df\n"
   ]
  },
  {
   "cell_type": "code",
   "execution_count": 2,
   "metadata": {},
   "outputs": [],
   "source": [
    "# pull s3 paths\n",
    "# iterate: pull and append to master\n",
    "# save to disk and push to s3\n"
   ]
  },
  {
   "cell_type": "code",
   "execution_count": 3,
   "metadata": {},
   "outputs": [
    {
     "data": {
      "text/plain": [
       "1403"
      ]
     },
     "execution_count": 3,
     "metadata": {},
     "output_type": "execute_result"
    }
   ],
   "source": [
    "# pull s3 paths\n",
    "bucket = 'czb-seqbot'\n",
    "prefix = 'fastqs/190412_A00111_0295_AHJCT7DSXX/rawdata/Ashley_Maynard/results'\n",
    "suffix = '.homo.htseq-count.txt'\n",
    "paths = get_s3path_list(bucket, prefix, suffix)\n",
    "len(paths)\n"
   ]
  },
  {
   "cell_type": "code",
   "execution_count": 4,
   "metadata": {},
   "outputs": [
    {
     "name": "stderr",
     "output_type": "stream",
     "text": [
      "1403it [02:36,  8.95it/s]\n"
     ]
    }
   ],
   "source": [
    "# iterate: pull and append to master\n",
    "null_df = pd.read_csv(paths[0], delimiter='\\t', header=None)\n",
    "null_df = null_df[[not x.startswith('__') for x in null_df.iloc[:,0]]]\n",
    "\n",
    "master_array = np.zeros((len(null_df), len(paths)))\n",
    "for idx, i in tqdm(enumerate(paths)):\n",
    "    tmp_df = pd.read_csv(i, delimiter='\\t', header=None)\n",
    "    tmp_df = tmp_df[[not x.startswith('__') for x in tmp_df.iloc[:,0]]]\n",
    "    tmp_vec = tmp_df.iloc[:,1].values\n",
    "    master_array[:,idx] = tmp_vec\n",
    "    "
   ]
  },
  {
   "cell_type": "code",
   "execution_count": 8,
   "metadata": {},
   "outputs": [
    {
     "name": "stdout",
     "output_type": "stream",
     "text": [
      "upload: ../../data/DL20181011_melanocyte_test_data/DL20190417_adult_v2.csv to s3://daniel.le-work/MEL_project/DL20190417_adult_v2.csv\n"
     ]
    }
   ],
   "source": [
    "# save to disk and push to s3\n",
    "filename = 'DL20190417_adult_v2.csv'\n",
    "master_df = pd.DataFrame(master_array).astype(int)\n",
    "master_df['gene'] = tmp_df.iloc[:,0].values\n",
    "master_df = master_df.set_index('gene')\n",
    "colnames = ['_'.join(x.split('/')[-1].split('_')[:2]) for x in paths]\n",
    "master_df.columns = colnames\n",
    "master_df.to_csv(f'/home/ubuntu/data/DL20181011_melanocyte_test_data/{filename}')\n",
    "! aws s3 cp /home/ubuntu/data/DL20181011_melanocyte_test_data/{filename} s3://daniel.le-work/MEL_project/\n",
    "    "
   ]
  }
 ],
 "metadata": {
  "kernelspec": {
   "display_name": "Python 3",
   "language": "python",
   "name": "python3"
  },
  "language_info": {
   "codemirror_mode": {
    "name": "ipython",
    "version": 3
   },
   "file_extension": ".py",
   "mimetype": "text/x-python",
   "name": "python",
   "nbconvert_exporter": "python",
   "pygments_lexer": "ipython3",
   "version": "3.7.3"
  },
  "varInspector": {
   "cols": {
    "lenName": 16,
    "lenType": 16,
    "lenVar": 40
   },
   "kernels_config": {
    "python": {
     "delete_cmd_postfix": "",
     "delete_cmd_prefix": "del ",
     "library": "var_list.py",
     "varRefreshCmd": "print(var_dic_list())"
    },
    "r": {
     "delete_cmd_postfix": ") ",
     "delete_cmd_prefix": "rm(",
     "library": "var_list.r",
     "varRefreshCmd": "cat(var_dic_list()) "
    }
   },
   "types_to_exclude": [
    "module",
    "function",
    "builtin_function_or_method",
    "instance",
    "_Feature"
   ],
   "window_display": false
  }
 },
 "nbformat": 4,
 "nbformat_minor": 2
}
