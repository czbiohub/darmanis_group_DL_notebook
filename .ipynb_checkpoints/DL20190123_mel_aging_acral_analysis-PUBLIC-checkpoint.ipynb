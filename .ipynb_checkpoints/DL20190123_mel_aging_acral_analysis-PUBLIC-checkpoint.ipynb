{
 "cells": [
  {
   "cell_type": "code",
   "execution_count": null,
   "metadata": {},
   "outputs": [],
   "source": [
    "###############################################\n",
    "###############################################\n",
    "# Setup\n",
    "# This chuck ingests pre-computed variables\n",
    "###############################################\n",
    "###############################################\n",
    "\n",
    "# [Shift + Return] to run chunks \n",
    "\n",
    "###############################################\n",
    "\n",
    "# settings\n",
    "wkdir, s3dir = '/home/ubuntu/data/DL20181011_melanocyte_test_data', 'daniel.le-work/MEL_project'\n",
    "\n",
    "%reload_ext autoreload\n",
    "%autoreload 2\n",
    "from scanpy_helpers import *\n",
    "warnings.filterwarnings('ignore')\n",
    "%matplotlib inline\n",
    "\n",
    "# import data from s3\n",
    "for file in ['adata_subset1', 'adata_subset2', 'full_adata', 'pre_adata','adata_subset1_KRT','raw_adata']:\n",
    "#     ! aws s3 cp s3://{s3dir}/{file}.p {wkdir}/\n",
    "    var = pickle.load((open(f'{wkdir}/{file}.p', 'rb')))\n",
    "    exec(f'{file} = var')\n",
    "    del var\n",
    "\n",
    "# drop patients due to low cell count\n",
    "adata_subset2_filtered = adata_subset2[[x not in ['A1015LM',\n",
    "                                                'A1017LM',\n",
    "                                                'A1012M'] for x in adata_subset2.obs.patient.tolist()]] \n",
    "\n",
    "# plot full data\n",
    "sc.pl.umap(full_adata, color=['age','general_location'], cmap = 'magma_r')\n",
    "sc.pl.umap(adata_subset2_filtered, color=['age','general_location'], cmap = 'magma_r')\n",
    "\n",
    "print('Completed')"
   ]
  },
  {
   "cell_type": "code",
   "execution_count": null,
   "metadata": {},
   "outputs": [],
   "source": [
    "%%capture\n",
    "###############################################\n",
    "###############################################\n",
    "# Compute union of differentially expressed gene among samples\n",
    "# This chuck returns a dataframe of DE genes found in all samples\n",
    "###############################################\n",
    "###############################################\n",
    "\n",
    "# Specify patients of interest\n",
    "patientOIs = ['12WKM01', 'A1038LM']\n",
    "\n",
    "# Specify feature to compare\n",
    "groupby = 'louvain'\n",
    "\n",
    "# Specify the number of top DE genes per test\n",
    "n_genes = 50\n",
    "\n",
    "###############################################\n",
    "\n",
    "ranks_dict = {}\n",
    "for idx, patientOI in enumerate(patientOIs):\n",
    "    exec(f'global adata_{patientOI}')\n",
    "    input_adata = adata_subset2_filtered\n",
    "    patients = list(set(input_adata.obs.patient))\n",
    "    type_dict = {'in':[patientOI],\n",
    "                 'out':[x for x in patients if x != patientOI]}\n",
    "\n",
    "    classify_type(raw_adata, input_adata, 'patient', type_dict, 'class_3')\n",
    "\n",
    "    feature_dict = {'class_3':['in']}\n",
    "    adata_subset3 = subset_adata_v3(raw_adata,feature_dict)\n",
    "    adata_subset3 = process_adata(adata_subset3)\n",
    "    pca_adata(adata_subset3, num_pcs=30)\n",
    "    umap_adata(adata_subset3, res=0.2)\n",
    "    sc.pl.umap(adata_subset3, color=['louvain','general_location'])\n",
    "\n",
    "    exec(f'adata_{patientOI} = input_adata = adata_subset3')\n",
    "    ranks_df = simple_rank (input_adata, groupby=groupby, n_genes=n_genes)\n",
    "    ranks_df['patient'] = patientOI\n",
    "    ranks_dict[patientOI] = ranks_df\n"
   ]
  },
  {
   "cell_type": "code",
   "execution_count": null,
   "metadata": {},
   "outputs": [],
   "source": [
    "###############################################\n",
    "###############################################\n",
    "# Visualize clustering\n",
    "# This chuck displays UMAPS\n",
    "###############################################\n",
    "###############################################\n",
    "\n",
    "# Specify patients of interest\n",
    "patientOIs = ['12WKM01', 'A1038LM']\n",
    "\n",
    "# Specify gene of interest\n",
    "geneOI = 'NTRK2'\n",
    "\n",
    "###############################################\n",
    "\n",
    "for idx, patientOI in enumerate(patientOIs):\n",
    "    print(patientOI)\n",
    "    exec(f'sc.pl.umap(adata_{patientOI}, color=[\"louvain\",\"general_location\", \"{geneOI}\"])')\n"
   ]
  },
  {
   "cell_type": "code",
   "execution_count": null,
   "metadata": {
    "scrolled": false
   },
   "outputs": [],
   "source": [
    "###############################################\n",
    "###############################################\n",
    "# Display summary of DE genes found in all samples\n",
    "# This chuck displays MEL and all-cells UMAPS and gene annotations\n",
    "###############################################\n",
    "###############################################\n",
    "\n",
    "# Specify patients and feature group\n",
    "patient2feature = {'12WKM01':'0',\n",
    "                   'A1038LM':'1'}\n",
    "\n",
    "###############################################\n",
    "\n",
    "full_list = []\n",
    "for key,value in patient2feature.items():\n",
    "    list_iter = list(set(ranks_dict[key][value].values.tolist()))\n",
    "    full_list = full_list + list_iter\n",
    "\n",
    "union_df = pd.DataFrame({'genes':full_list})['genes'].value_counts()\n",
    "genes = union_df[union_df > 1].index.tolist()\n",
    "sc.pl.umap(adata_subset2, color=genes, ncols = 2)\n",
    "sc.pl.umap(full_adata, color=genes, ncols = 2)\n",
    "out = symbol2field(genes)\n",
    "full_report = ['{}: {}\\n{}'.format(idx,\n",
    "                            x['query'],\n",
    "                            x['summary']) if ('summary' in x.keys()) else '{}: {}\\n{}'.format(idx,\n",
    "                            x['query'],\n",
    "                            'N/A') for idx, x in enumerate(out)]\n",
    "search_term = ''\n",
    "output = [print(x) for x in full_report if search_term in x]\n"
   ]
  },
  {
   "cell_type": "code",
   "execution_count": null,
   "metadata": {},
   "outputs": [],
   "source": []
  }
 ],
 "metadata": {
  "kernelspec": {
   "display_name": "Python [conda root]",
   "language": "python",
   "name": "conda-root-py"
  },
  "language_info": {
   "codemirror_mode": {
    "name": "ipython",
    "version": 3
   },
   "file_extension": ".py",
   "mimetype": "text/x-python",
   "name": "python",
   "nbconvert_exporter": "python",
   "pygments_lexer": "ipython3",
   "version": "3.6.5"
  },
  "varInspector": {
   "cols": {
    "lenName": 16,
    "lenType": 16,
    "lenVar": 40
   },
   "kernels_config": {
    "python": {
     "delete_cmd_postfix": "",
     "delete_cmd_prefix": "del ",
     "library": "var_list.py",
     "varRefreshCmd": "print(var_dic_list())"
    },
    "r": {
     "delete_cmd_postfix": ") ",
     "delete_cmd_prefix": "rm(",
     "library": "var_list.r",
     "varRefreshCmd": "cat(var_dic_list()) "
    }
   },
   "types_to_exclude": [
    "module",
    "function",
    "builtin_function_or_method",
    "instance",
    "_Feature"
   ],
   "window_display": false
  }
 },
 "nbformat": 4,
 "nbformat_minor": 2
}
