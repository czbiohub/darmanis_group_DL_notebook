{
 "cells": [
  {
   "cell_type": "code",
   "execution_count": 2,
   "metadata": {},
   "outputs": [],
   "source": [
    "import pysam\n"
   ]
  },
  {
   "cell_type": "code",
   "execution_count": 41,
   "metadata": {},
   "outputs": [
    {
     "name": "stdout",
     "output_type": "stream",
     "text": [
      "GATCGTACATCTCGCT-1\n",
      "GATCGTACATCTCGCT-1\n",
      "GCGGGTTCAAGTCTAC-1\n"
     ]
    }
   ],
   "source": [
    "with pysam.AlignmentFile('/GB100_1/86_1B/outs/test/possorted_genome_bam.bam', \"rb\") as samfile:\n",
    "    for read in samfile.head(3):\n",
    "        try:\n",
    "            tag = read.get_tag('CB')\n",
    "            print(tag)\n",
    "            with pysam.AlignmentFile(\"/GB100_1/86_1B/outs/test/test.bam\", \"wb\", template=samfile):\n",
    "                outputfn.write(read)\n",
    "        except:\n",
    "            pass\n",
    "    \n",
    "    "
   ]
  },
  {
   "cell_type": "code",
   "execution_count": 48,
   "metadata": {},
   "outputs": [
    {
     "name": "stdout",
     "output_type": "stream",
     "text": [
      "A00111:222:HGMYLDMXX:2:2211:24361:33129\t16\t0\t3000194\t255\t90M\t-1\t-1\t90\tCTGATTTAGCTTTGGTACCTGGTATCTGTCTAGGAAGTTGTCCATTTCATCCAGGTTTTCCTGGTTTTTTTTTAGTATAGCCTTTCATAG\tarray('B', [37, 37, 37, 37, 37, 37, 37, 37, 37, 37, 37, 37, 25, 37, 37, 37, 37, 37, 37, 37, 37, 37, 37, 37, 37, 37, 37, 37, 37, 37, 37, 25, 37, 37, 37, 37, 37, 37, 37, 37, 37, 37, 37, 37, 37, 37, 37, 37, 37, 37, 37, 37, 37, 37, 37, 37, 37, 37, 37, 37, 37, 37, 37, 37, 37, 37, 37, 37, 37, 37, 37, 37, 37, 37, 37, 37, 37, 37, 37, 37, 37, 37, 37, 37, 37, 37, 37, 37, 37, 37])\t[('NH', 1), ('HI', 1), ('AS', 88), ('nM', 0), ('RE', 'I'), ('BC', 'CCTTGTAG'), ('QT', 'FFFFFFFF'), ('CR', 'GATCGTACATCTCGCT'), ('CY', 'FFFFFFFFFFFFFFFF'), ('CB', 'GATCGTACATCTCGCT-1'), ('UR', 'TTGGTAGTTG'), ('UY', 'FFFFFFFFFF'), ('UB', 'TTGGTAGTTG'), ('RG', '86_1B:MissingLibrary:1:HGMYLDMXX:2')]\n",
      "A00111:222:HGMYLDMXX:2:2283:21766:5274\t16\t0\t3000194\t255\t90M\t-1\t-1\t90\tCTGATTTAGCTTTGGTACCTGGTATCTGTCTAGGAAGTTGTCCATTTCATCCAGGTTTTCCTGGTTTTTTTTTAGTATAGCCTTTCATAG\tarray('B', [37, 37, 37, 11, 37, 37, 37, 37, 37, 37, 37, 37, 37, 37, 37, 37, 37, 37, 37, 37, 37, 37, 37, 25, 37, 37, 37, 37, 37, 37, 37, 37, 37, 37, 37, 37, 37, 37, 37, 37, 37, 25, 37, 37, 37, 37, 37, 37, 37, 37, 37, 37, 37, 37, 37, 37, 37, 37, 37, 37, 37, 37, 37, 37, 37, 37, 37, 37, 37, 37, 37, 37, 37, 37, 37, 37, 37, 37, 37, 37, 37, 37, 37, 37, 37, 37, 37, 37, 37, 37])\t[('NH', 1), ('HI', 1), ('AS', 88), ('nM', 0), ('RE', 'I'), ('BC', 'CCTTGTAG'), ('QT', 'FFFFFFFF'), ('CR', 'GATCGTACATCTCGCT'), ('CY', 'F:FF:FFFFF,FFFFF'), ('CB', 'GATCGTACATCTCGCT-1'), ('UR', 'TTGGTAGTTG'), ('UY', 'FFFF,FFFFF'), ('UB', 'TTGGTAGTTG'), ('RG', '86_1B:MissingLibrary:1:HGMYLDMXX:2')]\n",
      "A00111:222:HGMYLDMXX:2:1441:25211:26271\t16\t0\t3000194\t255\t90M\t-1\t-1\t90\tCTGATTTAGCTTTGGTACCTGGTATCTGTCTAGGAAGTTGTCCATTTCATCCAGGTTTTCCTGGTTTTTTTTTAGTATAGCCTTTCATAG\tarray('B', [37, 37, 25, 25, 37, 37, 37, 37, 37, 37, 37, 37, 37, 37, 37, 37, 37, 25, 37, 37, 37, 37, 37, 37, 37, 11, 37, 37, 37, 37, 37, 37, 37, 37, 37, 37, 37, 37, 37, 37, 37, 37, 37, 37, 37, 37, 37, 25, 37, 37, 37, 37, 37, 37, 37, 37, 37, 37, 37, 37, 25, 37, 37, 37, 25, 37, 37, 37, 37, 37, 37, 37, 37, 37, 37, 37, 37, 37, 37, 37, 37, 37, 37, 25, 37, 37, 37, 37, 37, 37])\t[('NH', 1), ('HI', 1), ('AS', 88), ('nM', 0), ('RE', 'I'), ('BC', 'CCTTGTAG'), ('QT', 'FFFFFFFF'), ('CR', 'GCGGGTTCAAGTCTAC'), ('CY', 'FFFFFFFFFFFFFFFF'), ('CB', 'GCGGGTTCAAGTCTAC-1'), ('UR', 'TGTTTTTCTA'), ('UY', 'FFFFFFFFFF'), ('UB', 'TGTTTTTCTA'), ('RG', '86_1B:MissingLibrary:1:HGMYLDMXX:2')]\n"
     ]
    }
   ],
   "source": [
    "samfile = pysam.AlignmentFile('/GB100_1/86_1B/outs/test/possorted_genome_bam.bam', \"rb\")\n",
    "for read in samfile.head(3):\n",
    "    try:\n",
    "        tag = read.get_tag('CB')\n",
    "        print(read)\n",
    "        outputfn = pysam.AlignmentFile(f\"/GB100_1/86_1B/outs/test/{tag}.bam\", \"wb\", template=None)\n",
    "        outputfn.write(read)\n",
    "    except:\n",
    "        pass\n",
    "\n",
    "samfile.close()\n",
    "outputfn.close()"
   ]
  },
  {
   "cell_type": "code",
   "execution_count": null,
   "metadata": {},
   "outputs": [],
   "source": []
  }
 ],
 "metadata": {
  "kernelspec": {
   "display_name": "Python [conda root]",
   "language": "python",
   "name": "conda-root-py"
  },
  "language_info": {
   "codemirror_mode": {
    "name": "ipython",
    "version": 3
   },
   "file_extension": ".py",
   "mimetype": "text/x-python",
   "name": "python",
   "nbconvert_exporter": "python",
   "pygments_lexer": "ipython3",
   "version": "3.6.5"
  },
  "varInspector": {
   "cols": {
    "lenName": 16,
    "lenType": 16,
    "lenVar": 40
   },
   "kernels_config": {
    "python": {
     "delete_cmd_postfix": "",
     "delete_cmd_prefix": "del ",
     "library": "var_list.py",
     "varRefreshCmd": "print(var_dic_list())"
    },
    "r": {
     "delete_cmd_postfix": ") ",
     "delete_cmd_prefix": "rm(",
     "library": "var_list.r",
     "varRefreshCmd": "cat(var_dic_list()) "
    }
   },
   "types_to_exclude": [
    "module",
    "function",
    "builtin_function_or_method",
    "instance",
    "_Feature"
   ],
   "window_display": false
  }
 },
 "nbformat": 4,
 "nbformat_minor": 2
}
