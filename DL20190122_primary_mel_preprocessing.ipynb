{
 "cells": [
  {
   "cell_type": "markdown",
   "metadata": {},
   "source": [
    "# ingest raw data"
   ]
  },
  {
   "cell_type": "code",
   "execution_count": null,
   "metadata": {},
   "outputs": [],
   "source": [
    "# settings\n",
    "wkdir, s3dir = '/home/ubuntu/data/DL20181011_melanocyte_test_data', 'daniel.le-work/MEL_project'\n",
    "\n",
    "%reload_ext autoreload\n",
    "%autoreload 2\n",
    "from scanpy_helpers_1 import *\n",
    "from scanpy_helpers_2 import *\n",
    "print ('scanpy version: {}'.format(sc.__version__))\n",
    "warnings.filterwarnings('ignore')\n",
    "%matplotlib inline\n",
    "\n",
    "# read raw data (expression data) to pandas df\n",
    "pre_adata = (pd.read_csv('s3://daniel.le-work/MEL_project/DL20190115_big_counts.txt', \n",
    "                      index_col=[0])\n",
    "                .rename(columns = {'gene':'gene_name'})\n",
    "                .set_index('gene_name'))\n",
    "cell_names = ['_'.join(x.split('_')[:2]) for x in pre_adata.columns]\n",
    "pre_adata.columns = cell_names\n",
    "\n",
    "# read fetal supp data\n",
    "pre_adata_supp1 = (pd.read_csv('s3://daniel.le-work/MEL_project/DL20190319_fetal_v2.csv')\n",
    "                  .rename(columns = {'gene':'gene_name'})\n",
    "                   .set_index('gene_name')\n",
    "                  )\n",
    "\n",
    "# read adult supp data\n",
    "pre_adata_supp2 = (pd.read_csv('s3://daniel.le-work/MEL_project/DL20190417_adult_v2.csv')\n",
    "                  .rename(columns = {'gene':'gene_name'})\n",
    "                   .set_index('gene_name')\n",
    "                  )\n",
    "\n",
    "# merge with raw\n",
    "pre_adata = pd.concat([pre_adata, pre_adata_supp1,pre_adata_supp2], axis=1)\n",
    "cell_names = pre_adata.columns.tolist()\n",
    "\n",
    "# metadata:\n",
    "## download lastest from google drive and push to s3\n",
    "meta_df = pd.read_csv('s3://daniel.le-work/MEL_project/DL20190417_mel_metadata.csv')\n",
    "meta_df = meta_df.drop(['GWAS_consent', \n",
    "                        'sort_info_exported',\n",
    "                       'sort_date',\n",
    "                       'plate_order',\n",
    "                       'sample_number',\n",
    "                       'plate_status'], axis = 1)\n",
    "possible_wells = [f'{y}{x}'for y in string.ascii_uppercase[:-10] for x in range(1,25)]\n",
    "all_wells_df = pd.DataFrame()\n",
    "for plate in meta_df.plate_barcode:\n",
    "    well_df = pd.DataFrame({'well':possible_wells})\n",
    "    well_df['plate_barcode'] = plate\n",
    "    all_wells_df = pd.concat([all_wells_df, well_df], axis = 0)\n",
    "    \n",
    "meta_df = pd.merge(meta_df, all_wells_df, 'left', 'plate_barcode')\n",
    "meta_df['cell_name'] = [f'{x}_{y}' for x,y in zip(meta_df.well, meta_df.plate_barcode)]\n",
    "\n",
    "merged_anno = pd.merge(pd.DataFrame({'cell_name':cell_names}), meta_df, 'left', 'cell_name')\n",
    "merged_anno = merged_anno.set_index('cell_name')\n"
   ]
  },
  {
   "cell_type": "code",
   "execution_count": null,
   "metadata": {},
   "outputs": [],
   "source": [
    "def module_look_up(input_adata):\n",
    "    MEL_module = ['PMEL','TYR','DCT','MITF','TYRP1','SOX10']\n",
    "    bKRT_module = ['ITGB4','KRT14','KRT5']\n",
    "    sbKRT_module = ['KRT1','DSG1','DSC3']\n",
    "    T_cell = ['CD2','CD3D','CD3E','CD3G']\n",
    "    B_cell = ['IGLL5','MZB1','JCHAIN','DERL3','SDC1','MS4A1','BANK1','PAX5','CD79A',\n",
    "             'PRDM1','XBP1','IRF4','MS4A1','IRF8']\n",
    "    langerhans_cell = ['CD207','CD1A'] # https://www.ncbi.nlm.nih.gov/pmc/articles/PMC351325/\n",
    "    merkel_cell = ['KRT20','ATOH1']# https://www.ncbi.nlm.nih.gov/pubmed/7769257, http://dev.biologists.org/content/141/24/4690\n",
    "    mast_cell = ['CMA1', 'MS4A2', 'TPSAB1', 'TPSB2']\n",
    "    monocyte = ['PTPRC', 'CD14','FCGR3A'] #https://www.biolegend.com/essential_markers\n",
    "    fibroblast = ['COL1A1','COL3A1','TWIST1'] # https://www.ncbi.nlm.nih.gov/pubmed/27113414\n",
    "    eccrine_cell = ['FOXC1','RUNX1','S100P']\n",
    "\n",
    "    # compile modules\n",
    "    modules_dict = {'MEL_module':MEL_module,\n",
    "                    'bKRT_module':bKRT_module,\n",
    "                    'sbKRT_module':sbKRT_module,\n",
    "                    'langerhans_cell':langerhans_cell,\n",
    "                    'merkel_cell':merkel_cell,\n",
    "                    'mast_cell':mast_cell, \n",
    "                    'T_cell':T_cell, \n",
    "                    'monocyte':monocyte, \n",
    "                    'fibroblast':fibroblast, \n",
    "                    'eccrine':eccrine_cell,\n",
    "                   }\n",
    "\n",
    "    input_adata.obs['cell'] = input_adata.obs.index.tolist()\n",
    "    input_adata.obs['cell'] = (input_adata\n",
    "                              .obs['cell']\n",
    "                              .astype(str)\n",
    "                              .astype(CategoricalDtype(input_adata.obs['cell'].tolist())))\n",
    "    cat, exp_df = prepare_dataframe(input_adata,\n",
    "                     var_names = [x for key,value in modules_dict.items() for x in value],\n",
    "                     groupby = 'cell')\n",
    "    exp_df = exp_df.rank(pct=True, axis=0, method = 'min') # ranked expression per cell\n",
    "    exp_df = exp_df.rank(pct=True, axis=1, method = 'min') # ranking ranked expression per gene (normalizing contribution of each gene)\n",
    "\n",
    "    for key,value in modules_dict.items():\n",
    "        input_adata.obs[key] = exp_df.loc[:,value].mean(axis=1)\n",
    "        sc.pl.umap(input_adata, color=[key], cmap = 'magma', palette = 'tab20')\n",
    "\n",
    "    sc.pl.umap(input_adata, color=['louvain'], \n",
    "               ncols = 1, cmap = 'nipy_spectral', palette = 'tab20', legend_loc = 'on data')\n"
   ]
  },
  {
   "cell_type": "markdown",
   "metadata": {},
   "source": [
    "# compile raw data"
   ]
  },
  {
   "cell_type": "code",
   "execution_count": null,
   "metadata": {},
   "outputs": [],
   "source": [
    "raw_adata = create_adata(pre_adata)\n",
    "raw_adata.var['ribo'] = raw_adata.var_names.str.startswith(('RPL','RPS'))\n",
    "raw_adata.var['ercc'] = np.array([True if 'ERCC' in x else False for x in raw_adata.var_names.tolist()])\n",
    "# sc.pp.calculate_qc_metrics(raw_adata, feature_controls=['ribo','ercc'], inplace=True)\n",
    "anno_dict = {'age':'age',\n",
    "             'age_bin':'age_bin',\n",
    "             'plate_barcode':'plate',\n",
    "             'general_location':'general_location',\n",
    "             'anatomical_location':'anatomical_location',\n",
    "             'race':'race',\n",
    "             'sex':'sex',\n",
    "             'sample_color':'color',\n",
    "             'patient_id':'patient'}\n",
    "append_anno(raw_adata, merged_anno, anno_dict)\n",
    "technical_filters(raw_adata)\n",
    "raw_adata = remove_ercc(raw_adata) \n",
    "raw_adata.raw = sc.pp.log1p(raw_adata, copy=True) # freeze raw state"
   ]
  },
  {
   "cell_type": "markdown",
   "metadata": {
    "code_folding": []
   },
   "source": [
    "# append metadata to raw adata"
   ]
  },
  {
   "cell_type": "markdown",
   "metadata": {},
   "source": [
    "## cycling cells\n",
    "ref: https://www.biorxiv.org/content/biorxiv/early/2019/02/03/526848.full.pdf \n",
    "high = G2/M, low = G1/S"
   ]
  },
  {
   "cell_type": "code",
   "execution_count": null,
   "metadata": {},
   "outputs": [],
   "source": [
    "cycling_module = ['TOP2A','CDK1','UBE2C','CDT1']\n",
    "input_adata = raw_adata\n",
    "threshold = 95\n",
    "\n",
    "input_adata.obs['cell'] = input_adata.obs.index.tolist()\n",
    "input_adata.obs['cell'] = (input_adata\n",
    "                          .obs['cell']\n",
    "                          .astype(str)\n",
    "                          .astype(CategoricalDtype(input_adata.obs['cell'].tolist())))\n",
    "cat, exp_df = prepare_dataframe(input_adata,\n",
    "                 var_names = cycling_module,\n",
    "                 groupby = 'cell')\n",
    "# exp_df = exp_df.rank(pct=True, axis=0, method = 'min') # ranked expression per cell\n",
    "exp_df = exp_df.rank(pct=True, axis=1, method = 'min') # ranking ranked expression per gene\n",
    "\n",
    "input_adata.obs['cycling_score'] = exp_df.loc[:,cycling_module].mean(axis=1)\n",
    "omit_names = (input_adata[input_adata.obs.cycling_score > np.percentile(input_adata.obs.cycling_score.values, threshold)]\n",
    "              .obs\n",
    "              .index\n",
    "              .tolist()\n",
    "             )\n",
    "\n",
    "input_adata.obs['cycling_cell'] = ['G2_M' if x in set(omit_names) else 'G1_S' for x in input_adata.obs.index]\n",
    "\n",
    "cycling_df = input_adata.obs.loc[:,['n_genes','cycling_score']]\n",
    "\n",
    "plotnine.options.figure_size = (3,3)\n",
    "plot_df = (ggplot(cycling_df)\n",
    "           + theme_bw()\n",
    "           + geom_histogram(aes('cycling_score'))\n",
    "           + geom_vline(aes(xintercept = np.percentile(input_adata.obs.cycling_score.values, threshold)), color = 'red')\n",
    "          )\n",
    "plot_df\n"
   ]
  },
  {
   "cell_type": "markdown",
   "metadata": {},
   "source": [
    "## back-scatter"
   ]
  },
  {
   "cell_type": "code",
   "execution_count": null,
   "metadata": {},
   "outputs": [],
   "source": [
    "bucket = 'daniel.le-work'\n",
    "prefix = 'MEL_project/facs_data'\n",
    "suffix = '.csv'\n",
    "paths = get_s3path_list(bucket, prefix, suffix)\n",
    "\n",
    "master_bsc = pd.DataFrame()\n",
    "for path in paths:\n",
    "    pathoi = path\n",
    "    pathoi_plate = pathoi.split('/')[-1].split('_')[0].split('-')[0]\n",
    "    tmpdf = pd.read_csv(pathoi).loc[:,['BSC-A','FSC-A','Index']]\n",
    "    tmpdf['plate'] = pathoi_plate\n",
    "    \n",
    "    master_bsc = master_bsc.append(tmpdf)\n",
    "    \n",
    "master_bsc['code'] = [f'{x}_{y}' for x,y in zip(master_bsc.Index, master_bsc.plate)]\n",
    "master_bsc = master_bsc.drop_duplicates(subset=['code'])\n",
    "# append results\n",
    "# join bsc to adata index order\n",
    "for input_adata in [raw_adata]:\n",
    "    mergedf = pd.merge(pd.DataFrame({'code':input_adata.obs.index.values}), \n",
    "                       master_bsc.loc[:,['BSC-A','FSC-A','code']], 'left', 'code')\n",
    "    mergedf['plate'] = [x.split('_')[-1] for x in mergedf.code]\n",
    "    mergedf['well'] = [x.split('_')[0] for x in mergedf.code]\n",
    "    mergedf['pass'] = np.isnan(mergedf['BSC-A'])\n",
    "    input_adata.obs['bsc'] = mergedf['BSC-A'].values\n",
    "    input_adata.obs['fsc'] = mergedf['FSC-A'].values\n",
    "    "
   ]
  },
  {
   "cell_type": "markdown",
   "metadata": {},
   "source": [
    "## FACS gates"
   ]
  },
  {
   "cell_type": "code",
   "execution_count": null,
   "metadata": {},
   "outputs": [],
   "source": [
    "input_adata = raw_adata\n",
    "\n",
    "gate_labels = pd.read_csv('s3://daniel.le-work/MEL_project/gate_assignments.csv', index_col = 0)\n",
    "gate_labels.columns = [x.split('-')[0] for x in gate_labels.columns]\n",
    "gate_labels = (gate_labels\n",
    "               .iloc[:, [idx for idx,x in enumerate(gate_labels\n",
    "                                                    .columns\n",
    "                                                    .duplicated(keep='first')) if x == False]]\n",
    "                )\n",
    "gate_labels = pd.melt(gate_labels.reset_index(), id_vars='index')\n",
    "gate_labels['cell_id'] = [f'{y}_{x}' for x,y in zip(gate_labels['variable'], gate_labels['index'])]\n",
    "gate_labels = pd.merge(pd.DataFrame({'cell_id':input_adata.obs.index}),\n",
    "                       gate_labels.loc[:,['cell_id','value']],\n",
    "                       'left',\n",
    "                       'cell_id'\n",
    "                      )\n",
    "\n",
    "input_adata.obs['gate_label'] = gate_labels['value'].values\n",
    "input_adata.obs['gate_label'] = input_adata.obs['gate_label'].replace(np.nan, 'null')\n",
    "input_adata.obs['gate_label'] = (input_adata.obs['gate_label']\n",
    "                                 .astype(str)\n",
    "                                 .astype(CategoricalDtype(['a6high', 'a6mid', 'a6low', 'ckitpos', 'null'],ordered=True))\n",
    "                                )\n"
   ]
  },
  {
   "cell_type": "markdown",
   "metadata": {},
   "source": [
    "# Filters"
   ]
  },
  {
   "cell_type": "markdown",
   "metadata": {},
   "source": [
    "## initial clustering"
   ]
  },
  {
   "cell_type": "code",
   "execution_count": null,
   "metadata": {},
   "outputs": [],
   "source": [
    "n_pcs = 75\n",
    "\n",
    "all_cells_adata = sc.pp.log1p(raw_adata, copy=True) # new\n",
    "sc.pp.highly_variable_genes(all_cells_adata,min_mean=0.1,max_mean=10,min_disp=0.5) # new\n",
    "sc.pp.scale(all_cells_adata) # new\n",
    "sc.tl.pca(all_cells_adata, use_highly_variable = True, n_comps=n_pcs) # new\n",
    "sc.pp.neighbors(all_cells_adata, n_pcs=n_pcs, n_neighbors = 7) # new\n",
    "sc.tl.umap(all_cells_adata, min_dist = 0.5)\n",
    "sc.tl.louvain(all_cells_adata, resolution = 3)\n",
    "sc.pl.umap(all_cells_adata, color=['louvain'], legend_loc='on data')\n",
    "sc.pl.umap(all_cells_adata, color=['louvain'])\n"
   ]
  },
  {
   "cell_type": "code",
   "execution_count": null,
   "metadata": {
    "scrolled": false
   },
   "outputs": [],
   "source": [
    "## well series test\n",
    "# cluster = '47'\n",
    "# input_adata = all_cells_adata\n",
    "# gene_n=10\n",
    "# well_series_test(cluster, input_adata)\n",
    "# input_adata.obs['coi'] = [x == cluster for x in input_adata.obs.louvain]\n",
    "# print(set(input_adata.obs[input_adata.obs['coi'] == True].patient))\n",
    "# sc.pl.umap(input_adata, color = ['coi','PMEL','KRT1','KRT15','n_genes','age'], ncols = 2\n",
    "#           )\n",
    "\n",
    "# sc.tl.rank_genes_groups(input_adata, groupby='louvain', groups=[cluster], method='wilcoxon',reference='rest')\n",
    "# gene = [x[0] for x in input_adata.uns['rank_genes_groups']['names']]\n",
    "# out = symbol2field(gene[:gene_n])\n",
    "# output = [print(f'{idx}: ', \n",
    "#        x['query'],\n",
    "#        '\\n',x['summary']) if ('summary' in x.keys()) else print(f'{idx}: ', \n",
    "#                                                                 x['query'],\n",
    "#                                                                 '\\n','N/A') for idx, x in enumerate(out)]\n",
    "\n",
    "\n"
   ]
  },
  {
   "cell_type": "markdown",
   "metadata": {},
   "source": [
    "## decontamination_1\n",
    "55 = 2 plate, well series\n",
    "54 = single plate, well series\n",
    "53 = single plate, well series\n",
    "52 = single plate, well series\n",
    "51 = multi plate, well series\n",
    "manual = well series"
   ]
  },
  {
   "cell_type": "code",
   "execution_count": null,
   "metadata": {
    "scrolled": true
   },
   "outputs": [],
   "source": [
    "# compile contaminations\n",
    "contam_list = []\n",
    "for x in ['55','54','53','52','51']:\n",
    "    contam_list = contam_list + all_cells_adata.obs[all_cells_adata.obs.louvain == x].index.tolist()\n",
    "\n",
    "manual_contam = [f'I{x}_B003580' for x in range(13,23)]\n",
    "full_contam = contam_list + manual_contam\n",
    "\n",
    "# classify in all_cells_adata\n",
    "input_adata = all_cells_adata\n",
    "input_adata.obs['contam_1'] = [x in full_contam for x in input_adata.obs.index]\n",
    "sc.pl.umap(input_adata, color = 'contam_1')\n",
    "\n",
    "# classify in raw_adata\n",
    "raw_adata.obs['contam_1'] = [x in full_contam for x in raw_adata.obs.index]\n"
   ]
  },
  {
   "cell_type": "code",
   "execution_count": null,
   "metadata": {
    "scrolled": false
   },
   "outputs": [],
   "source": [
    "decontam_adata = raw_adata[raw_adata.obs['contam_1'] == False]\n",
    "decontam_adata = sc.pp.log1p(decontam_adata, copy=True) # new\n",
    "sc.pp.highly_variable_genes(decontam_adata,min_mean=0.1,max_mean=10,min_disp=0.5) # new\n",
    "sc.pp.scale(decontam_adata) # new\n",
    "sc.tl.pca(decontam_adata, use_highly_variable = True, n_comps=n_pcs) # new\n",
    "sc.pp.neighbors(decontam_adata, n_pcs=n_pcs, n_neighbors=15) # new\n",
    "sc.tl.umap(decontam_adata, min_dist = 0.5)\n",
    "sc.tl.louvain(decontam_adata, resolution = 4)\n",
    "sc.pl.umap(decontam_adata, color=['louvain'], legend_loc='on data')\n",
    "sc.pl.umap(decontam_adata, color=['louvain'])\n"
   ]
  },
  {
   "cell_type": "code",
   "execution_count": null,
   "metadata": {
    "scrolled": false
   },
   "outputs": [],
   "source": [
    "# ## well series test\n",
    "# cluster = '34'\n",
    "# input_adata = decontam_adata\n",
    "# gene_n=10\n",
    "# well_series_test(cluster, input_adata)\n",
    "# input_adata.obs['coi'] = [x == cluster for x in input_adata.obs.louvain]\n",
    "# print(set(input_adata.obs[input_adata.obs['coi'] == True].patient))\n",
    "# sc.pl.umap(input_adata, color = ['coi','PMEL','KRT1','KRT15','n_genes','age'], ncols = 2\n",
    "#           )\n",
    "\n",
    "# sc.tl.rank_genes_groups(input_adata, groupby='louvain', groups=[cluster], method='wilcoxon',reference='rest')\n",
    "# gene = [x[0] for x in input_adata.uns['rank_genes_groups']['names']]\n",
    "# out = symbol2field(gene[:gene_n])\n",
    "# output = [print(f'{idx}: ', \n",
    "#        x['query'],\n",
    "#        '\\n',x['summary']) if ('summary' in x.keys()) else print(f'{idx}: ', \n",
    "#                                                                 x['query'],\n",
    "#                                                                 '\\n','N/A') for idx, x in enumerate(out)]\n",
    "\n",
    "\n"
   ]
  },
  {
   "cell_type": "markdown",
   "metadata": {},
   "source": [
    "## low-quality and doublet filter\n",
    "25 = low-quality (low n_genes)\n",
    "43 = doublet (co-expression of PMEL and KRT1/KRT15)"
   ]
  },
  {
   "cell_type": "code",
   "execution_count": null,
   "metadata": {},
   "outputs": [],
   "source": [
    "# n_genes of filtered cells\n",
    "input_adata = decontam_adata\n",
    "ngene_df = input_adata.obs.loc[:,['louvain','n_genes']]\n",
    "ngene_df['coi'] = [x if x in ['25','43'] else 'rest' for x in ngene_df.louvain]\n",
    "display(ngene_df.groupby('coi').describe())\n",
    "\n",
    "plotnine.options.figure_size = (3,3)\n",
    "plot = (ggplot(ngene_df)\n",
    "        + theme_bw()\n",
    "        + geom_boxplot(aes('coi','n_genes'))\n",
    "       )\n",
    "plot\n"
   ]
  },
  {
   "cell_type": "code",
   "execution_count": null,
   "metadata": {},
   "outputs": [],
   "source": [
    "# compile contaminations\n",
    "contam_hi_ngenes = decontam_adata.obs[decontam_adata.obs.louvain == '43'].index.tolist()\n",
    "contam_lo_ngenes = decontam_adata.obs[decontam_adata.obs.louvain == '25'].index.tolist()\n",
    "\n",
    "\n",
    "full_contam = full_contam + contam_hi_ngenes + contam_lo_ngenes\n",
    "full_contam = list(set(full_contam))\n",
    "\n",
    "# classify in full_adata\n",
    "input_adata = decontam_adata\n",
    "input_adata.obs['contam_2'] = [x in full_contam for x in input_adata.obs.index]\n",
    "input_adata.obs['coi'] = [x if x in ['43','25'] else 'rest' for x in input_adata.obs.louvain]\n",
    "sc.pl.umap(input_adata, color = 'coi')\n",
    "\n",
    "# classify in raw_adata\n",
    "raw_adata.obs['contam_2'] = [x in full_contam for x in raw_adata.obs.index]\n"
   ]
  },
  {
   "cell_type": "code",
   "execution_count": null,
   "metadata": {},
   "outputs": [],
   "source": [
    "full_adata = raw_adata[raw_adata.obs['contam_2'] == False]\n",
    "full_adata = sc.pp.log1p(full_adata, copy=True) # new\n",
    "sc.pp.highly_variable_genes(full_adata,min_mean=0.1,max_mean=10,min_disp=0.5) # new\n",
    "sc.pp.scale(full_adata) # new\n",
    "sc.tl.pca(full_adata, use_highly_variable = True, n_comps=n_pcs) # new\n",
    "sc.pp.neighbors(full_adata, n_pcs=n_pcs, n_neighbors=65) # new\n",
    "sc.tl.umap(full_adata, min_dist = 0.5)\n",
    "sc.tl.louvain(full_adata, resolution = 0.02)\n",
    "sc.pl.umap(full_adata, color=['louvain'], legend_loc='on data')\n",
    "sc.pl.umap(full_adata, color=['louvain'])\n"
   ]
  },
  {
   "cell_type": "markdown",
   "metadata": {},
   "source": [
    "# iterative re-clustering"
   ]
  },
  {
   "cell_type": "markdown",
   "metadata": {},
   "source": [
    "## cluster_0"
   ]
  },
  {
   "cell_type": "code",
   "execution_count": null,
   "metadata": {},
   "outputs": [],
   "source": [
    "coi = full_adata[full_adata.obs.louvain == '0'].obs.index.tolist()\n",
    "raw_adata.obs['recluster'] = [x in coi for x in raw_adata.obs.index]\n",
    "recluster_0 = raw_adata[raw_adata.obs['recluster'] == True]\n",
    "recluster_0 = sc.pp.log1p(recluster_0, copy=True) # new\n",
    "sc.pp.highly_variable_genes(recluster_0,min_mean=0.1,max_mean=10,min_disp=0.5) # new\n",
    "sc.pp.scale(recluster_0) # new\n",
    "sc.tl.pca(recluster_0, use_highly_variable = True, n_comps=n_pcs) # new\n",
    "sc.pp.neighbors(recluster_0, n_pcs=n_pcs, n_neighbors=10) # new\n",
    "sc.tl.umap(recluster_0, min_dist = 0.5)\n",
    "sc.tl.louvain(recluster_0, resolution = 0.45)\n",
    "sc.pl.umap(recluster_0, color=['louvain'], legend_loc='on data')\n",
    "sc.pl.umap(recluster_0, color=['louvain'])\n"
   ]
  },
  {
   "cell_type": "code",
   "execution_count": null,
   "metadata": {},
   "outputs": [],
   "source": [
    "sc.tl.louvain(recluster_0, resolution = 0.3)\n",
    "sc.pl.umap(recluster_0, color=['louvain'], legend_loc='on data')\n",
    "sc.pl.umap(recluster_0, color=['louvain'])"
   ]
  },
  {
   "cell_type": "code",
   "execution_count": null,
   "metadata": {
    "scrolled": true
   },
   "outputs": [],
   "source": [
    "# ## well series test\n",
    "# cluster = '7'\n",
    "# input_adata = recluster_0\n",
    "# well_series_test(cluster, input_adata)\n",
    "# input_adata.obs['coi'] = [x == cluster for x in input_adata.obs.louvain]\n",
    "# print(set(input_adata.obs[input_adata.obs['coi'] == True].patient))\n",
    "# sc.pl.umap(input_adata, color = ['coi','PMEL','KRT1','KRT15','n_genes','age'], ncols = 2\n",
    "#           )\n",
    "\n",
    "# sc.tl.rank_genes_groups(input_adata, groupby='louvain', groups=[cluster], method='wilcoxon',reference='rest')\n",
    "# gene = [x[0] for x in input_adata.uns['rank_genes_groups']['names']]\n",
    "# out = symbol2field(gene[:gene_n])\n",
    "# output = [print(f'{idx}: ', \n",
    "#        x['query'],\n",
    "#        '\\n',x['summary']) if ('summary' in x.keys()) else print(f'{idx}: ', \n",
    "#                                                                 x['query'],\n",
    "#                                                                 '\\n','N/A') for idx, x in enumerate(out)]\n",
    "\n",
    "\n"
   ]
  },
  {
   "cell_type": "code",
   "execution_count": null,
   "metadata": {
    "scrolled": false
   },
   "outputs": [],
   "source": [
    "# module look up\n",
    "# module_look_up(recluster_0)"
   ]
  },
  {
   "cell_type": "code",
   "execution_count": null,
   "metadata": {},
   "outputs": [],
   "source": [
    "# append named_cluster\n",
    "input_adata = recluster_0\n",
    "anno_dict_0 = {'7':'dendritic',\n",
    "               '8':'follicular_mel',\n",
    "               '9':'mast',\n",
    "               '10':'T_cell',\n",
    "              }\n",
    "for x in [x for x in set(input_adata.obs.louvain) \\\n",
    "          if x not in anno_dict_0.keys()]:\n",
    "    anno_dict_0[x] = f'mel_{x}'\n",
    "    \n",
    "input_adata.obs['named_cluster'] = [anno_dict_0.get(x) for x in input_adata.obs.louvain]\n",
    "\n",
    "# update cycling cell\n",
    "input_adata.obs.named_cluster = [f'cyc_{x}' if y == 'G2_M' \\\n",
    "                                 else x \\\n",
    "                                 for x,y in zip(input_adata.obs.named_cluster,\n",
    "                                                    input_adata.obs.cycling_cell)]\n",
    "# plot cycling cell output\n",
    "sc.pl.pca(input_adata, components=['1,2', '2,3','3,4'], color=['cycling_cell'])\n",
    "sc.pl.umap(input_adata, color=['cycling_cell'], cmap='nipy_spectral')\n"
   ]
  },
  {
   "cell_type": "markdown",
   "metadata": {},
   "source": [
    "###  recluster hair follicle cluster"
   ]
  },
  {
   "cell_type": "code",
   "execution_count": null,
   "metadata": {},
   "outputs": [],
   "source": [
    "n_pcs = 10\n",
    "coi = recluster_0[recluster_0.obs.louvain == '8'].obs.index.tolist()\n",
    "raw_adata.obs['recluster'] = [x in coi for x in raw_adata.obs.index]\n",
    "recluster_0_clust8 = raw_adata[raw_adata.obs['recluster'] == True]\n",
    "recluster_0_clust8 = sc.pp.log1p(recluster_0_clust8, copy=True) # new\n",
    "sc.pp.highly_variable_genes(recluster_0_clust8,min_mean=0.1,max_mean=10,min_disp=0.5) # new\n",
    "sc.pp.scale(recluster_0_clust8) # new\n",
    "sc.tl.pca(recluster_0_clust8, use_highly_variable = True, n_comps=n_pcs) # new\n",
    "sc.pp.neighbors(recluster_0_clust8, n_pcs=n_pcs, n_neighbors=10) # new\n",
    "sc.tl.umap(recluster_0_clust8, min_dist = 0.5)\n",
    "sc.tl.louvain(recluster_0_clust8, resolution = 0.3)\n",
    "sc.pl.umap(recluster_0_clust8, color=['louvain'], legend_loc='on data')\n",
    "\n"
   ]
  },
  {
   "cell_type": "code",
   "execution_count": null,
   "metadata": {},
   "outputs": [],
   "source": [
    "#ref: https://www.ncbi.nlm.nih.gov/pmc/articles/PMC3582991/\n",
    "sc.tl.louvain(recluster_0_clust8, resolution = 0.25)\n",
    "\n",
    "gois = ['WIF1','SFRP1','DAB2']\n",
    "sc.pl.umap(full_adata, color=['louvain']+gois)\n",
    "sc.pl.umap(recluster_0_clust8, color=['louvain']+gois)\n",
    "\n",
    "gois = ['DCT','KIT']\n",
    "sc.pl.umap(full_adata, color=['louvain']+gois)\n",
    "sc.pl.umap(recluster_0_clust8, color=['louvain']+gois)\n",
    "\n",
    "sc.pl.umap(recluster_0_clust8, color = ['patient'], ncols = 1)"
   ]
  },
  {
   "cell_type": "code",
   "execution_count": null,
   "metadata": {},
   "outputs": [],
   "source": [
    "# append named_cluster\n",
    "input_adata = recluster_0_clust8\n",
    "anno_dict_foll = {'0':'dark_foll_mel',\n",
    "               '1':'light_foll_mel',\n",
    "              }\n",
    "\n",
    "# add updated labels\n",
    "input_adata.obs['named_cluster'] = [anno_dict_foll.get(x) for x in input_adata.obs.louvain]\n",
    "\n",
    "# update cycling cell\n",
    "input_adata.obs.named_cluster = [f'cyc_foll_mel' if y == 'G2_M' \\\n",
    "                                 else x \\\n",
    "                                 for x,y in zip(input_adata.obs.named_cluster,\n",
    "                                                    input_adata.obs.cycling_cell)]\n",
    "\n",
    "# plot cycling cell output\n",
    "sc.pl.pca(input_adata, components=['1,2', '2,3','3,4'], color=['cycling_cell'])\n",
    "sc.pl.umap(input_adata, color=['cycling_cell','named_cluster'], cmap='nipy_spectral')\n",
    "\n",
    "# update recluster_0\n",
    "ref_adata = recluster_0[recluster_0.obs.louvain != '8']\n",
    "rename_df = (pd.DataFrame(ref_adata.obs.loc[:,'named_cluster'])\n",
    "             .append(pd.DataFrame(input_adata.obs.loc[:,'named_cluster'])))\n",
    "named_cluster_df = pd.merge(pd.DataFrame(recluster_0.obs.index).rename(columns = {0:'index'}),\n",
    "                          rename_df.loc[:,['named_cluster']].reset_index(),\n",
    "                          'left',\n",
    "                          'index')\n",
    "recluster_0.obs['named_cluster'] = named_cluster_df.named_cluster.tolist()  \n"
   ]
  },
  {
   "cell_type": "markdown",
   "metadata": {},
   "source": [
    "## cluster_1"
   ]
  },
  {
   "cell_type": "code",
   "execution_count": null,
   "metadata": {},
   "outputs": [],
   "source": [
    "coi = full_adata[full_adata.obs.louvain == '1'].obs.index.tolist()\n",
    "raw_adata.obs['recluster'] = [x in coi for x in raw_adata.obs.index]\n",
    "recluster_1 = raw_adata[raw_adata.obs['recluster'] == True]\n",
    "recluster_1 = sc.pp.log1p(recluster_1, copy=True) # new\n",
    "sc.pp.highly_variable_genes(recluster_1,min_mean=0.1,max_mean=10,min_disp=0.5) # new\n",
    "sc.pp.scale(recluster_1) # new\n",
    "sc.tl.pca(recluster_1, use_highly_variable = True, n_comps=n_pcs) # new\n",
    "sc.pp.neighbors(recluster_1, n_pcs=n_pcs, n_neighbors=35) # new\n",
    "sc.tl.umap(recluster_1, min_dist = 0.5)\n",
    "sc.tl.louvain(recluster_1, resolution = 0.1)\n",
    "sc.pl.umap(recluster_1, color=['louvain'], legend_loc='on data')\n",
    "sc.pl.umap(recluster_1, color=['louvain'])\n"
   ]
  },
  {
   "cell_type": "code",
   "execution_count": null,
   "metadata": {},
   "outputs": [],
   "source": [
    "# append named_cluster\n",
    "input_adata = recluster_1\n",
    "anno_dict_krt = {'0':'krt_0',\n",
    "               '1':'eccrine_0',\n",
    "               '2':'krt_1',\n",
    "               '3':'eccrine_1',\n",
    "              }\n",
    "# full_adata.obs['named_cluster'] = [f'mel_{x}' if x not in anno_dict_1.keys() \\\n",
    "#                                              else '{}'.format(anno_dict_0[x]) \\\n",
    "#                                              for x in full_adata.obs.louvain]\n",
    "\n",
    "input_adata.obs['named_cluster'] = [anno_dict_krt.get(x) for x in input_adata.obs.louvain]\n",
    "\n",
    "# update cycling cell\n",
    "input_adata.obs.named_cluster = [f'cyc_{x}' if y == 'G2_M' \\\n",
    "                                 else x \\\n",
    "                                 for x,y in zip(input_adata.obs.named_cluster,\n",
    "                                                    input_adata.obs.cycling_cell)]\n",
    "# plot cycling cell output\n",
    "sc.pl.pca(input_adata, components=['1,2', '2,3','3,4'], color=['cycling_cell'])\n",
    "sc.pl.umap(input_adata, color=['cycling_cell'], cmap='nipy_spectral')\n"
   ]
  },
  {
   "cell_type": "markdown",
   "metadata": {},
   "source": [
    "# annotations"
   ]
  },
  {
   "cell_type": "markdown",
   "metadata": {},
   "source": [
    "## merge recluster annotations"
   ]
  },
  {
   "cell_type": "code",
   "execution_count": null,
   "metadata": {},
   "outputs": [],
   "source": [
    "recluster_merge = recluster_1.obs.append(recluster_0.obs)\n",
    "named_cluster_df = pd.merge(pd.DataFrame(full_adata.obs.index).rename(columns = {0:'index'}),\n",
    "                          recluster_merge.loc[:,['named_cluster']].reset_index(),\n",
    "                          'left',\n",
    "                          'index')\n",
    "\n",
    "full_adata.obs['named_cluster'] = named_cluster_df.named_cluster.tolist()\n",
    "sc.pl.umap(full_adata, color = 'named_cluster', legend_loc = 'on data')\n",
    "sc.pl.umap(full_adata, color = 'named_cluster')\n"
   ]
  },
  {
   "cell_type": "markdown",
   "metadata": {},
   "source": [
    "## label updates"
   ]
  },
  {
   "cell_type": "code",
   "execution_count": null,
   "metadata": {},
   "outputs": [],
   "source": [
    "# update labels\n",
    "dev_stage_order = ['fet','neo','adt']\n",
    "subtypes_order = ['acral','foreskin','cutaneous']\n",
    "acral_subtype_order = ['acral','not_acral']\n",
    "foreskin_subtype_order = ['foreskin','not_foreskin']\n",
    "dev_subtype_order = ['fet_acral','fet_cutaneous','neo_foreskin','adt_acral','adt_cutaneous']\n",
    "\n",
    "for input_adata in [full_adata,recluster_0,recluster_1]:\n",
    "    input_adata.obs['true_year'] = [float(x.split('WK')[0])/52 if len(x.split('WK')[0]) <= 3 else np.nan for x in input_adata.obs.patient]\n",
    "    input_adata.obs['true_year'] = [y+(9/12) if np.isnan(x) else x for x,y in zip(input_adata.obs['true_year'], input_adata.obs['age']) ]\n",
    "\n",
    "    input_adata.obs['dev_stage'] = ['adt' if x > 0 else 'neo' if x == 0 else 'fet' for x in input_adata.obs.age]\n",
    "    input_adata.obs['subtypes'] = [x if x in ['acral','foreskin'] else 'cutaneous' for x in input_adata.obs.general_location]\n",
    "    input_adata.obs['acral_subtype'] = [x if x == 'acral' else 'not_acral' for x in input_adata.obs['subtypes']]\n",
    "    input_adata.obs['dev_subtype'] = [f'{x}_{y}' for x,y in zip(input_adata.obs.dev_stage, input_adata.obs.subtypes)]\n",
    "\n",
    "    for i in ['dev_stage', 'subtypes', 'acral_subtype' ,'dev_subtype']:\n",
    "        input_adata.obs[i] =  (input_adata\n",
    "                                 .obs[i]\n",
    "                                 .astype(str)\n",
    "                               .astype(CategoricalDtype(eval(f'{i}_order'), ordered = True))\n",
    "                              )  \n",
    "        \n",
    "    input_adata.obs['class_1'] = ['_'.join(x.split('_')[:-1]) if x.split('_')[-1].isdigit() \\\n",
    "                                      else '_'.join(x.split('_')) \\\n",
    "                                      for x in input_adata.obs['named_cluster']]\n",
    "     "
   ]
  },
  {
   "cell_type": "markdown",
   "metadata": {},
   "source": [
    "## DE genes as function of annotation"
   ]
  },
  {
   "cell_type": "code",
   "execution_count": null,
   "metadata": {},
   "outputs": [],
   "source": [
    "input_adata = full_adata\n",
    "DE_df = pd.DataFrame()\n",
    "type_order = ['mel',\n",
    "                'cyc_mel',\n",
    "                'dark_foll_mel',\n",
    "                'light_foll_mel',\n",
    "                'cyc_foll_mel',\n",
    "                'krt',\n",
    "                'cyc_krt',\n",
    "                'eccrine',\n",
    "                'cyc_eccrine',\n",
    "                'dendritic',\n",
    "                'cyc_dendritic',\n",
    "                'mast',\n",
    "                'T_cell',]\n",
    "for x in tqdm.tqdm(type_order):\n",
    "    tmpdf = pd.DataFrame()\n",
    "    tmpdf['gene'] = fast_DE(input_adata, x,'class_1')\n",
    "    tmpdf['class_1'] = x\n",
    "    DE_df = DE_df.append(tmpdf)\n",
    "    \n",
    "DE_df['class_1'] = (DE_df['class_1']\n",
    "                      .astype(str)\n",
    "                      .astype(CategoricalDtype(type_order, ordered=True))\n",
    "                     )\n",
    "    \n",
    "gene_order = DE_df[~DE_df.gene.duplicated(keep='first')].gene.tolist()\n",
    "    "
   ]
  },
  {
   "cell_type": "code",
   "execution_count": null,
   "metadata": {},
   "outputs": [],
   "source": [
    "# DE_df[DE_df.class_1 == 'msc']"
   ]
  },
  {
   "cell_type": "code",
   "execution_count": null,
   "metadata": {},
   "outputs": [],
   "source": [
    "# fast_DE(input_adata, 'cyc_fibroblast','class_1')"
   ]
  },
  {
   "cell_type": "markdown",
   "metadata": {},
   "source": [
    "## Marker gene citations"
   ]
  },
  {
   "cell_type": "code",
   "execution_count": null,
   "metadata": {},
   "outputs": [],
   "source": [
    "cite_dict = {'10.1101/cshperspect.a017046':['TYR','TYRP1','DCT','MITF','IGFBP7','PMEL','MLANA'], # mel\n",
    "             '10.1016/j.celrep.2018.09.006':['DSP','DSC3','LGALS7B'], # krt\n",
    "             '10.1038/jid.2010.395':['AQP3'], # krt\n",
    "             '10.1111/exd.12773':['KRT18','KRT19','KRT8'], # eccrine\n",
    "             '10.1038/jid.2013.375':['FCGR2A','FCER1G','C1QC','LAPTM5','CSF1R','AIF1'], # dendritic\n",
    "             '10.1182/blood-2013-02-483792':['LAPTM5','FCER1G','SLC18A2','GATA2'], # mast\n",
    "             '10.1084/jem.20170910':['TPSAB1','CPA3','HDC','GATA2'], # mast\n",
    "             '10.1038/s41598-017-01468-y':['TYROBP','CSF1R','LAPTM5','FCGR2A','FCER1G','LCP1','CD4','C1QC',\n",
    "                                           'FYB','CORO1A','CXCR4','CD3D','CD52','PTPRCAP','IL32'], # dendritic / T cell\n",
    "#              '10.1158/0008-5472.CAN-09-0783':['COL1A1','COL3A1','COL1A2',\n",
    "#                                               'PRRX1','COL6A2','COL21A1','MEG3'] # nevus \n",
    "             '10.1371/journal.pgen.1008034':['EDNRA','PRRX1','CDH11','COL6A2'], # msc\n",
    "             '10.1371/journal.pone.0115717':['DCN','CLDN11','OLFML3'] # fibroblast\n",
    "            }\n",
    "\n",
    "cite_df = pd.DataFrame()\n",
    "for key,value in cite_dict.items():\n",
    "    df_slice = pd.DataFrame({'gene':value})\n",
    "    df_slice['cite'] = key\n",
    "    cite_df = cite_df.append(df_slice)    \n",
    "DE_cite_df = pd.merge(DE_df, cite_df, 'left', 'gene')\n",
    "\n",
    "cite2class = {'10.1101/cshperspect.a017046':['mel','cyc_mel'],\n",
    "              '10.1016/j.celrep.2018.09.006':['krt','cyc_krt'],\n",
    "              '10.1038/jid.2010.395':['krt','cyc_krt'],\n",
    "              '10.1111/exd.12773':['eccrine','cyc_eccrine'],\n",
    "              '10.1038/jid.2013.375':['dendritic','cyc_dendritic'],\n",
    "              '10.1038/s41598-017-01468-y':['dendritic','cyc_dendritic','T_cell','cyc_T_cell'],\n",
    "              '10.1182/blood-2013-02-483792':['mast','cyc_mast'],\n",
    "              '10.1084/jem.20170910':['mast','cyc_mast'],\n",
    "              '10.1371/journal.pgen.1008034':['dark_foll_mel','cyc_foll_mel'],\n",
    "              '10.1371/journal.pone.0115717':['light_foll_mel','cyc_foll_mel']\n",
    "             }\n",
    "\n",
    "DE_cite_df['support'] = [y in cite2class.get(x) if x is not np.nan else False for x,y in zip(DE_cite_df.cite,DE_cite_df.class_1)]\n",
    "DE_cite_df['class_1'] = (DE_cite_df['class_1']\n",
    "                      .astype(str)\n",
    "                      .astype(CategoricalDtype(type_order, ordered=True))\n",
    "                     )\n",
    "plot_df = pd.DataFrame(DE_cite_df.groupby(['class_1','gene'])['support'].sum()).reset_index()\n",
    "plot_df['bool_support'] = [x > 0 for x in plot_df['support']]\n",
    "plot_df['xvar'] = 0\n",
    "plot_df['class_1'] = (plot_df['class_1']\n",
    "                      .astype(str)\n",
    "                      .astype(CategoricalDtype(type_order, ordered=True))\n",
    "                     )\n",
    "\n",
    "plotnine.options.figure_size = (6,6)\n",
    "plot = (ggplot(plot_df)\n",
    "        + theme_bw()\n",
    "        + theme(panel_spacing_x = 1.1,\n",
    "                axis_text_x = element_blank(),\n",
    "                strip_background = element_blank(),\n",
    "                axis_ticks = element_blank()\n",
    "               )\n",
    "        + geom_tile(aes('xvar','gene', fill = 'bool_support'), color = 'white')\n",
    "        + facet_wrap('~class_1', scales = 'free')\n",
    "        + labs(x = '', y = '')\n",
    "#         + scale_fill_manual(values = ['red','green','blue','orange','purple','yellow','pink','brown','grey','white'])\n",
    "       )\n",
    "print(plot)\n",
    "\n",
    "# table of cell annotations and citations\n",
    "cite2class_df = pd.DataFrame()\n",
    "for key,value in cite2class.items():\n",
    "    df_slice = pd.DataFrame({'class_1':value})\n",
    "    df_slice['cite'] = key\n",
    "    cite2class_df = cite2class_df.append(df_slice)\n",
    "cite2class_df['class_1'] = (cite2class_df['class_1']\n",
    "                      .astype(str)\n",
    "                      .astype(CategoricalDtype(type_order, ordered=True))\n",
    "                     )\n",
    "display(cite2class_df.dropna())\n"
   ]
  },
  {
   "cell_type": "markdown",
   "metadata": {},
   "source": [
    "# save"
   ]
  },
  {
   "cell_type": "code",
   "execution_count": null,
   "metadata": {},
   "outputs": [],
   "source": [
    "# pickle adatas\n",
    "for objname in ['raw_adata','full_adata',\n",
    "                'recluster_0','recluster_1', 'DE_df']:\n",
    "    pickle.dump(eval(objname), open( f\"{wkdir}/{objname}.p\", \"wb\" ) )\n",
    "    syscmd = f'aws s3 cp {wkdir}/{objname}.p s3://{s3dir}/'\n",
    "    subprocess.run(syscmd.split(' '))"
   ]
  },
  {
   "cell_type": "code",
   "execution_count": null,
   "metadata": {},
   "outputs": [],
   "source": []
  }
 ],
 "metadata": {
  "kernelspec": {
   "display_name": "Python 3",
   "language": "python",
   "name": "python3"
  },
  "language_info": {
   "codemirror_mode": {
    "name": "ipython",
    "version": 3
   },
   "file_extension": ".py",
   "mimetype": "text/x-python",
   "name": "python",
   "nbconvert_exporter": "python",
   "pygments_lexer": "ipython3",
   "version": "3.7.3"
  },
  "varInspector": {
   "cols": {
    "lenName": 16,
    "lenType": 16,
    "lenVar": 40
   },
   "kernels_config": {
    "python": {
     "delete_cmd_postfix": "",
     "delete_cmd_prefix": "del ",
     "library": "var_list.py",
     "varRefreshCmd": "print(var_dic_list())"
    },
    "r": {
     "delete_cmd_postfix": ") ",
     "delete_cmd_prefix": "rm(",
     "library": "var_list.r",
     "varRefreshCmd": "cat(var_dic_list()) "
    }
   },
   "types_to_exclude": [
    "module",
    "function",
    "builtin_function_or_method",
    "instance",
    "_Feature"
   ],
   "window_display": false
  }
 },
 "nbformat": 4,
 "nbformat_minor": 2
}
