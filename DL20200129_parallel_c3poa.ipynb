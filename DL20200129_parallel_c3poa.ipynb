{
 "cells": [
  {
   "cell_type": "code",
   "execution_count": 3,
   "metadata": {},
   "outputs": [],
   "source": [
    "import glob\n",
    "import multiprocessing\n",
    "import subprocess\n",
    "import os, shutil"
   ]
  },
  {
   "cell_type": "code",
   "execution_count": 11,
   "metadata": {},
   "outputs": [],
   "source": [
    "docker_id = '1b00558574a6'\n",
    "n_proc = 32\n",
    "\n",
    "#-r (positional arg)\n",
    "pre_dir = '/mnt/ibm_lg/daniel_le/data/longreads/c3poa_testdata/output/pre'\n",
    "r_vals = glob.glob(f'{pre_dir}/*/*/R2C2_raw_reads.fastq')\n",
    "# -p, -o (create custom output)\n",
    "main_dir = '/mnt/ibm_lg/daniel_le/data/longreads/c3poa_testdata/output/main'\n",
    "main_subdirs = [f'{main_dir}/' + '_'.join(x.split('/')[-3:-1]) for x in r_vals]\n",
    "for x in main_subdirs:\n",
    "    if os.path.exists(x):\n",
    "        shutil.rmtree(x)\n",
    "    os.mkdir(x)\n",
    "    os.mkdir(f'{x}/tmp')\n",
    "p_vals = [f'{x}/tmp' for x in main_subdirs]\n",
    "o_vals = [f'{x}/css.fasta' for x in main_subdirs]\n",
    "# -m, -l, -d, -c (positional args)\n",
    "m_val = '/mnt/ibm_lg/daniel_le/data/longreads/c3poa_testdata/input/NUC.4.4.mat'\n",
    "l_val = 1000\n",
    "d_val = 500\n",
    "c_val = '/mnt/ibm_lg/daniel_le/data/longreads/c3poa_testdata/input/config'\n"
   ]
  },
  {
   "cell_type": "code",
   "execution_count": 12,
   "metadata": {},
   "outputs": [
    {
     "name": "stdout",
     "output_type": "stream",
     "text": [
      "CPU times: user 6.69 s, sys: 4.54 s, total: 11.2 s\n",
      "Wall time: 1h 18min 7s\n"
     ]
    }
   ],
   "source": [
    "%%time\n",
    "# docker command\n",
    "def docker_call(r_val, p_val, o_val):\n",
    "    try: \n",
    "        cmnd = ' '.join(['docker',\n",
    "                         'exec',\n",
    "                         docker_id,\n",
    "                         'python3',\n",
    "                         'C3POa.py',\n",
    "                         '-r',\n",
    "                         r_val,\n",
    "                         '-p',\n",
    "                         p_val,\n",
    "                         '-o',\n",
    "                         o_val,\n",
    "                         '-m',\n",
    "                         m_val,\n",
    "                         '-l',\n",
    "                         str(l_val),\n",
    "                         '-d',\n",
    "                         str(d_val),\n",
    "                         '-c',\n",
    "                         c_val,\n",
    "                        ])\n",
    "        output = subprocess.check_output(\n",
    "            cmnd, \n",
    "            stderr=subprocess.STDOUT, \n",
    "            shell=True,\n",
    "            universal_newlines=True)\n",
    "    except subprocess.CalledProcessError as exc:\n",
    "        print(\"Status : FAIL\", exc.returncode, exc.output)\n",
    "\n",
    "p = multiprocessing.Pool(processes=n_proc)\n",
    "try:\n",
    "    p.starmap(docker_call, zip(r_vals,\n",
    "                           p_vals,\n",
    "                           o_vals,\n",
    "                          ))\n",
    "finally:\n",
    "    p.close()\n",
    "    p.join()"
   ]
  },
  {
   "cell_type": "code",
   "execution_count": 13,
   "metadata": {},
   "outputs": [
    {
     "name": "stdout",
     "output_type": "stream",
     "text": [
      "CPU times: user 32.2 ms, sys: 22.8 ms, total: 55 ms\n",
      "Wall time: 134 ms\n"
     ]
    }
   ],
   "source": [
    "%%time\n",
    "# cat outputs\n",
    "with open(f'{main_dir}/merged_ccs.fasta', 'w') as outfile:\n",
    "    for fname in o_vals:\n",
    "        with open(fname) as infile:\n",
    "            for line in infile:\n",
    "                outfile.write(line)"
   ]
  },
  {
   "cell_type": "code",
   "execution_count": null,
   "metadata": {},
   "outputs": [],
   "source": []
  }
 ],
 "metadata": {
  "kernelspec": {
   "display_name": "Python 3",
   "language": "python",
   "name": "python3"
  },
  "language_info": {
   "codemirror_mode": {
    "name": "ipython",
    "version": 3
   },
   "file_extension": ".py",
   "mimetype": "text/x-python",
   "name": "python",
   "nbconvert_exporter": "python",
   "pygments_lexer": "ipython3",
   "version": "3.7.4"
  }
 },
 "nbformat": 4,
 "nbformat_minor": 4
}
