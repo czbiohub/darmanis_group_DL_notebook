{
 "cells": [
  {
   "cell_type": "code",
   "execution_count": 11,
   "metadata": {},
   "outputs": [
    {
     "name": "stdout",
     "output_type": "stream",
     "text": [
      "scanpy version: 1.3.3\n",
      "download: s3://daniel.le-work/MEL_project/adata_subset1.p to ../../data/DL20181011_melanocyte_test_data/adata_subset1.p\n",
      "download: s3://daniel.le-work/MEL_project/adata_subset2.p to ../../data/DL20181011_melanocyte_test_data/adata_subset2.p\n",
      "download: s3://daniel.le-work/MEL_project/full_adata.p to ../../data/DL20181011_melanocyte_test_data/full_adata.p\n"
     ]
    }
   ],
   "source": [
    "# settings\n",
    "wkdir, s3dir = '/home/ubuntu/data/DL20181011_melanocyte_test_data', 'daniel.le-work/MEL_project'\n",
    "\n",
    "%reload_ext autoreload\n",
    "%autoreload 2\n",
    "from scanpy_helpers import *\n",
    "print ('scanpy version: {}'.format(sc.__version__))\n",
    "warnings.filterwarnings('ignore')\n",
    "%matplotlib inline\n",
    "\n",
    "# import data from s3\n",
    "for file in ['adata_subset1', 'adata_subset2', 'full_adata']:\n",
    "    ! aws s3 cp s3://{s3dir}/{file}.p {wkdir}/\n",
    "    var = pickle.load((open(f'{wkdir}/{file}.p', 'rb')))\n",
    "    exec(f'{file} = var')\n",
    "    del var\n",
    "\n",
    "    "
   ]
  },
  {
   "cell_type": "code",
   "execution_count": null,
   "metadata": {},
   "outputs": [],
   "source": []
  }
 ],
 "metadata": {
  "kernelspec": {
   "display_name": "Python [conda root]",
   "language": "python",
   "name": "conda-root-py"
  },
  "language_info": {
   "codemirror_mode": {
    "name": "ipython",
    "version": 3
   },
   "file_extension": ".py",
   "mimetype": "text/x-python",
   "name": "python",
   "nbconvert_exporter": "python",
   "pygments_lexer": "ipython3",
   "version": "3.6.5"
  },
  "varInspector": {
   "cols": {
    "lenName": 16,
    "lenType": 16,
    "lenVar": 40
   },
   "kernels_config": {
    "python": {
     "delete_cmd_postfix": "",
     "delete_cmd_prefix": "del ",
     "library": "var_list.py",
     "varRefreshCmd": "print(var_dic_list())"
    },
    "r": {
     "delete_cmd_postfix": ") ",
     "delete_cmd_prefix": "rm(",
     "library": "var_list.r",
     "varRefreshCmd": "cat(var_dic_list()) "
    }
   },
   "types_to_exclude": [
    "module",
    "function",
    "builtin_function_or_method",
    "instance",
    "_Feature"
   ],
   "window_display": false
  }
 },
 "nbformat": 4,
 "nbformat_minor": 2
}
